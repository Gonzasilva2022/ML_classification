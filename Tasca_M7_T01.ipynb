{
 "cells": [
  {
   "cell_type": "markdown",
   "id": "aa9b27ef",
   "metadata": {},
   "source": [
    "## <div style=\"background-color: #BAE3BC; padding: 10px;\"><b>Exercicis d'algoritmes de Classificació</b>\n",
    "\n",
    "</div>"
   ]
  },
  {
   "cell_type": "markdown",
   "id": "efb26d56",
   "metadata": {},
   "source": [
    "### Exercici 1\n",
    "\n",
    "Crea almenys dos models de classificació diferents per intentar predir el millor les classes de l'arxiu adjunt."
   ]
  },
  {
   "cell_type": "code",
   "execution_count": 1,
   "id": "c6086d60",
   "metadata": {},
   "outputs": [],
   "source": [
    "import pandas as pd\n",
    "import numpy as np\n",
    "import matplotlib.pyplot as plt\n",
    "import seaborn as sns\n",
    "import warnings\n",
    "import missingno as msno\n",
    "from sklearn import metrics\n",
    "from sklearn import preprocessing\n",
    "from scipy.stats import shapiro\n",
    "from sklearn.model_selection import train_test_split\n",
    "from sklearn.preprocessing import StandardScaler\n",
    "from sklearn.preprocessing import RobustScaler\n",
    "from sklearn.preprocessing import MinMaxScaler\n",
    "from sklearn.model_selection import RandomizedSearchCV\n",
    "from sklearn.model_selection import cross_val_score\n",
    "warnings.filterwarnings(\"ignore\")"
   ]
  },
  {
   "cell_type": "markdown",
   "id": "6e3f2268",
   "metadata": {},
   "source": [
    "### <div style=\"background-color: #D3DDF7; padding: 10px;\"><b>Importem el dataset</b>\n",
    "\n",
    "</div>"
   ]
  },
  {
   "cell_type": "markdown",
   "id": "92e8611c",
   "metadata": {},
   "source": [
    "Primer de tot importem el dataset per veure una mica les variables de manera ràpida."
   ]
  },
  {
   "cell_type": "code",
   "execution_count": 2,
   "id": "1a502b68",
   "metadata": {
    "scrolled": true
   },
   "outputs": [
    {
     "data": {
      "text/html": [
       "<div>\n",
       "<style scoped>\n",
       "    .dataframe tbody tr th:only-of-type {\n",
       "        vertical-align: middle;\n",
       "    }\n",
       "\n",
       "    .dataframe tbody tr th {\n",
       "        vertical-align: top;\n",
       "    }\n",
       "\n",
       "    .dataframe thead th {\n",
       "        text-align: right;\n",
       "    }\n",
       "</style>\n",
       "<table border=\"1\" class=\"dataframe\">\n",
       "  <thead>\n",
       "    <tr style=\"text-align: right;\">\n",
       "      <th></th>\n",
       "      <th>0</th>\n",
       "      <th>1</th>\n",
       "      <th>2</th>\n",
       "      <th>3</th>\n",
       "      <th>4</th>\n",
       "      <th>5</th>\n",
       "      <th>6</th>\n",
       "      <th>7</th>\n",
       "      <th>8</th>\n",
       "      <th>9</th>\n",
       "      <th>10</th>\n",
       "      <th>11</th>\n",
       "      <th>12</th>\n",
       "      <th>13</th>\n",
       "    </tr>\n",
       "  </thead>\n",
       "  <tbody>\n",
       "    <tr>\n",
       "      <th>0</th>\n",
       "      <td>1</td>\n",
       "      <td>14.23</td>\n",
       "      <td>1.71</td>\n",
       "      <td>2.43</td>\n",
       "      <td>15.6</td>\n",
       "      <td>127</td>\n",
       "      <td>2.80</td>\n",
       "      <td>3.06</td>\n",
       "      <td>0.28</td>\n",
       "      <td>2.29</td>\n",
       "      <td>5.64</td>\n",
       "      <td>1.04</td>\n",
       "      <td>3.92</td>\n",
       "      <td>1065</td>\n",
       "    </tr>\n",
       "    <tr>\n",
       "      <th>1</th>\n",
       "      <td>1</td>\n",
       "      <td>13.20</td>\n",
       "      <td>1.78</td>\n",
       "      <td>2.14</td>\n",
       "      <td>11.2</td>\n",
       "      <td>100</td>\n",
       "      <td>2.65</td>\n",
       "      <td>2.76</td>\n",
       "      <td>0.26</td>\n",
       "      <td>1.28</td>\n",
       "      <td>4.38</td>\n",
       "      <td>1.05</td>\n",
       "      <td>3.40</td>\n",
       "      <td>1050</td>\n",
       "    </tr>\n",
       "    <tr>\n",
       "      <th>2</th>\n",
       "      <td>1</td>\n",
       "      <td>13.16</td>\n",
       "      <td>2.36</td>\n",
       "      <td>2.67</td>\n",
       "      <td>18.6</td>\n",
       "      <td>101</td>\n",
       "      <td>2.80</td>\n",
       "      <td>3.24</td>\n",
       "      <td>0.30</td>\n",
       "      <td>2.81</td>\n",
       "      <td>5.68</td>\n",
       "      <td>1.03</td>\n",
       "      <td>3.17</td>\n",
       "      <td>1185</td>\n",
       "    </tr>\n",
       "    <tr>\n",
       "      <th>3</th>\n",
       "      <td>1</td>\n",
       "      <td>14.37</td>\n",
       "      <td>1.95</td>\n",
       "      <td>2.50</td>\n",
       "      <td>16.8</td>\n",
       "      <td>113</td>\n",
       "      <td>3.85</td>\n",
       "      <td>3.49</td>\n",
       "      <td>0.24</td>\n",
       "      <td>2.18</td>\n",
       "      <td>7.80</td>\n",
       "      <td>0.86</td>\n",
       "      <td>3.45</td>\n",
       "      <td>1480</td>\n",
       "    </tr>\n",
       "    <tr>\n",
       "      <th>4</th>\n",
       "      <td>1</td>\n",
       "      <td>13.24</td>\n",
       "      <td>2.59</td>\n",
       "      <td>2.87</td>\n",
       "      <td>21.0</td>\n",
       "      <td>118</td>\n",
       "      <td>2.80</td>\n",
       "      <td>2.69</td>\n",
       "      <td>0.39</td>\n",
       "      <td>1.82</td>\n",
       "      <td>4.32</td>\n",
       "      <td>1.04</td>\n",
       "      <td>2.93</td>\n",
       "      <td>735</td>\n",
       "    </tr>\n",
       "    <tr>\n",
       "      <th>...</th>\n",
       "      <td>...</td>\n",
       "      <td>...</td>\n",
       "      <td>...</td>\n",
       "      <td>...</td>\n",
       "      <td>...</td>\n",
       "      <td>...</td>\n",
       "      <td>...</td>\n",
       "      <td>...</td>\n",
       "      <td>...</td>\n",
       "      <td>...</td>\n",
       "      <td>...</td>\n",
       "      <td>...</td>\n",
       "      <td>...</td>\n",
       "      <td>...</td>\n",
       "    </tr>\n",
       "    <tr>\n",
       "      <th>173</th>\n",
       "      <td>3</td>\n",
       "      <td>13.71</td>\n",
       "      <td>5.65</td>\n",
       "      <td>2.45</td>\n",
       "      <td>20.5</td>\n",
       "      <td>95</td>\n",
       "      <td>1.68</td>\n",
       "      <td>0.61</td>\n",
       "      <td>0.52</td>\n",
       "      <td>1.06</td>\n",
       "      <td>7.70</td>\n",
       "      <td>0.64</td>\n",
       "      <td>1.74</td>\n",
       "      <td>740</td>\n",
       "    </tr>\n",
       "    <tr>\n",
       "      <th>174</th>\n",
       "      <td>3</td>\n",
       "      <td>13.40</td>\n",
       "      <td>3.91</td>\n",
       "      <td>2.48</td>\n",
       "      <td>23.0</td>\n",
       "      <td>102</td>\n",
       "      <td>1.80</td>\n",
       "      <td>0.75</td>\n",
       "      <td>0.43</td>\n",
       "      <td>1.41</td>\n",
       "      <td>7.30</td>\n",
       "      <td>0.70</td>\n",
       "      <td>1.56</td>\n",
       "      <td>750</td>\n",
       "    </tr>\n",
       "    <tr>\n",
       "      <th>175</th>\n",
       "      <td>3</td>\n",
       "      <td>13.27</td>\n",
       "      <td>4.28</td>\n",
       "      <td>2.26</td>\n",
       "      <td>20.0</td>\n",
       "      <td>120</td>\n",
       "      <td>1.59</td>\n",
       "      <td>0.69</td>\n",
       "      <td>0.43</td>\n",
       "      <td>1.35</td>\n",
       "      <td>10.20</td>\n",
       "      <td>0.59</td>\n",
       "      <td>1.56</td>\n",
       "      <td>835</td>\n",
       "    </tr>\n",
       "    <tr>\n",
       "      <th>176</th>\n",
       "      <td>3</td>\n",
       "      <td>13.17</td>\n",
       "      <td>2.59</td>\n",
       "      <td>2.37</td>\n",
       "      <td>20.0</td>\n",
       "      <td>120</td>\n",
       "      <td>1.65</td>\n",
       "      <td>0.68</td>\n",
       "      <td>0.53</td>\n",
       "      <td>1.46</td>\n",
       "      <td>9.30</td>\n",
       "      <td>0.60</td>\n",
       "      <td>1.62</td>\n",
       "      <td>840</td>\n",
       "    </tr>\n",
       "    <tr>\n",
       "      <th>177</th>\n",
       "      <td>3</td>\n",
       "      <td>14.13</td>\n",
       "      <td>4.10</td>\n",
       "      <td>2.74</td>\n",
       "      <td>24.5</td>\n",
       "      <td>96</td>\n",
       "      <td>2.05</td>\n",
       "      <td>0.76</td>\n",
       "      <td>0.56</td>\n",
       "      <td>1.35</td>\n",
       "      <td>9.20</td>\n",
       "      <td>0.61</td>\n",
       "      <td>1.60</td>\n",
       "      <td>560</td>\n",
       "    </tr>\n",
       "  </tbody>\n",
       "</table>\n",
       "<p>178 rows × 14 columns</p>\n",
       "</div>"
      ],
      "text/plain": [
       "     0      1     2     3     4    5     6     7     8     9      10    11  \\\n",
       "0     1  14.23  1.71  2.43  15.6  127  2.80  3.06  0.28  2.29   5.64  1.04   \n",
       "1     1  13.20  1.78  2.14  11.2  100  2.65  2.76  0.26  1.28   4.38  1.05   \n",
       "2     1  13.16  2.36  2.67  18.6  101  2.80  3.24  0.30  2.81   5.68  1.03   \n",
       "3     1  14.37  1.95  2.50  16.8  113  3.85  3.49  0.24  2.18   7.80  0.86   \n",
       "4     1  13.24  2.59  2.87  21.0  118  2.80  2.69  0.39  1.82   4.32  1.04   \n",
       "..   ..    ...   ...   ...   ...  ...   ...   ...   ...   ...    ...   ...   \n",
       "173   3  13.71  5.65  2.45  20.5   95  1.68  0.61  0.52  1.06   7.70  0.64   \n",
       "174   3  13.40  3.91  2.48  23.0  102  1.80  0.75  0.43  1.41   7.30  0.70   \n",
       "175   3  13.27  4.28  2.26  20.0  120  1.59  0.69  0.43  1.35  10.20  0.59   \n",
       "176   3  13.17  2.59  2.37  20.0  120  1.65  0.68  0.53  1.46   9.30  0.60   \n",
       "177   3  14.13  4.10  2.74  24.5   96  2.05  0.76  0.56  1.35   9.20  0.61   \n",
       "\n",
       "       12    13  \n",
       "0    3.92  1065  \n",
       "1    3.40  1050  \n",
       "2    3.17  1185  \n",
       "3    3.45  1480  \n",
       "4    2.93   735  \n",
       "..    ...   ...  \n",
       "173  1.74   740  \n",
       "174  1.56   750  \n",
       "175  1.56   835  \n",
       "176  1.62   840  \n",
       "177  1.60   560  \n",
       "\n",
       "[178 rows x 14 columns]"
      ]
     },
     "execution_count": 2,
     "metadata": {},
     "output_type": "execute_result"
    }
   ],
   "source": [
    "wine = pd.read_csv(\"wineData.txt\", header=None)\n",
    "wine"
   ]
  },
  {
   "cell_type": "markdown",
   "id": "f76eb667",
   "metadata": {},
   "source": [
    "Si fem un repàs ràpid del dataset sense noms, podem començar a intuir que el nostre target podria ser la columna \"0\", perquè és l'únic qué a primera vista porta valors diferents i concrets que podrien semblar d'una categorització. Ho mirarem amb més detall més endavant."
   ]
  },
  {
   "cell_type": "markdown",
   "id": "e2e2e8ee",
   "metadata": {},
   "source": [
    "### <div style=\"background-color: #D3DDF7; padding: 10px;\"><b>Entenen el dataset</b>\n",
    "\n",
    "</div>"
   ]
  },
  {
   "cell_type": "markdown",
   "id": "d9bd0a4a",
   "metadata": {},
   "source": [
    "Farem servir el recurs \"wineNames\" per entendre de qué es tracte el dataset, quins són els atributs i quin seria el nostre target."
   ]
  },
  {
   "cell_type": "code",
   "execution_count": 3,
   "id": "13e07c99",
   "metadata": {
    "scrolled": true
   },
   "outputs": [
    {
     "name": "stdout",
     "output_type": "stream",
     "text": [
      "1. Title of Database: Wine recognition data\n",
      "\tUpdated Sept 21, 1998 by C.Blake : Added attribute information\n",
      "\n",
      "2. Sources:\n",
      "   (a) Forina, M. et al, PARVUS - An Extendible Package for Data\n",
      "       Exploration, Classification and Correlation. Institute of Pharmaceutical\n",
      "       and Food Analysis and Technologies, Via Brigata Salerno, \n",
      "       16147 Genoa, Italy.\n",
      "\n",
      "   (b) Stefan Aeberhard, email: stefan@coral.cs.jcu.edu.au\n",
      "   (c) July 1991\n",
      "3. Past Usage:\n",
      "\n",
      "   (1)\n",
      "   S. Aeberhard, D. Coomans and O. de Vel,\n",
      "   Comparison of Classifiers in High Dimensional Settings,\n",
      "   Tech. Rep. no. 92-02, (1992), Dept. of Computer Science and Dept. of\n",
      "   Mathematics and Statistics, James Cook University of North Queensland.\n",
      "   (Also submitted to Technometrics).\n",
      "\n",
      "   The data was used with many others for comparing various \n",
      "   classifiers. The classes are separable, though only RDA \n",
      "   has achieved 100% correct classification.\n",
      "   (RDA : 100%, QDA 99.4%, LDA 98.9%, 1NN 96.1% (z-transformed data))\n",
      "   (All results using the leave-one-out technique)\n",
      "\n",
      "   In a classification context, this is a well posed problem \n",
      "   with \"well behaved\" class structures. A good data set \n",
      "   for first testing of a new classifier, but not very \n",
      "   challenging.\n",
      "\n",
      "   (2) \n",
      "   S. Aeberhard, D. Coomans and O. de Vel,\n",
      "   \"THE CLASSIFICATION PERFORMANCE OF RDA\"\n",
      "   Tech. Rep. no. 92-01, (1992), Dept. of Computer Science and Dept. of\n",
      "   Mathematics and Statistics, James Cook University of North Queensland.\n",
      "   (Also submitted to Journal of Chemometrics).\n",
      "\n",
      "   Here, the data was used to illustrate the superior performance of\n",
      "   the use of a new appreciation function with RDA. \n",
      "\n",
      "4. Relevant Information:\n",
      "\n",
      "   -- These data are the results of a chemical analysis of\n",
      "      wines grown in the same region in Italy but derived from three\n",
      "      different cultivars.\n",
      "      The analysis determined the quantities of 13 constituents\n",
      "      found in each of the three types of wines. \n",
      "\n",
      "   -- I think that the initial data set had around 30 variables, but \n",
      "      for some reason I only have the 13 dimensional version. \n",
      "      I had a list of what the 30 or so variables were, but a.) \n",
      "      I lost it, and b.), I would not know which 13 variables\n",
      "      are included in the set.\n",
      "\n",
      "   -- The attributes are (dontated by Riccardo Leardi, \n",
      "\triclea@anchem.unige.it )\n",
      " \t1) Alcohol\n",
      " \t2) Malic acid\n",
      " \t3) Ash\n",
      "\t4) Alcalinity of ash  \n",
      " \t5) Magnesium\n",
      "\t6) Total phenols\n",
      " \t7) Flavanoids\n",
      " \t8) Nonflavanoid phenols\n",
      " \t9) Proanthocyanins\n",
      "\t10)Color intensity\n",
      " \t11)Hue\n",
      " \t12)OD280/OD315 of diluted wines\n",
      " \t13)Proline            \n",
      "\n",
      "5. Number of Instances\n",
      "\n",
      "      \tclass 1 59\n",
      "\tclass 2 71\n",
      "\tclass 3 48\n",
      "\n",
      "6. Number of Attributes \n",
      "\t\n",
      "\t13\n",
      "\n",
      "7. For Each Attribute:\n",
      "\n",
      "\tAll attributes are continuous\n",
      "\t\n",
      "\tNo statistics available, but suggest to standardise\n",
      "\tvariables for certain uses (e.g. for us with classifiers\n",
      "\twhich are NOT scale invariant)\n",
      "\n",
      "\tNOTE: 1st attribute is class identifier (1-3)\n",
      "\n",
      "8. Missing Attribute Values:\n",
      "\n",
      "\tNone\n",
      "\n",
      "9. Class Distribution: number of instances per class\n",
      "\n",
      "      \tclass 1 59\n",
      "\tclass 2 71\n",
      "\tclass 3 48\n",
      "\n"
     ]
    }
   ],
   "source": [
    "wineNames = open(\"wineNames.txt\")\n",
    "print(wineNames.read())"
   ]
  },
  {
   "cell_type": "markdown",
   "id": "4269f4db",
   "metadata": {},
   "source": [
    "Ara que h'em vist les característiques del dataset, podem corrobar el que pensavem. Per una banda tenim 13 atributs qué són propietats químiques de vins cultivats en una regió d'Italia. Però el dataset sencer comprèn en general són 14 columnes, sent la columne \"0\" aquella que porta la classe del vi (1, 2 i 3), és a dir una variable de tipus nominal perquè no té implícit un ordre o jerarquia."
   ]
  },
  {
   "cell_type": "markdown",
   "id": "d4641e11",
   "metadata": {},
   "source": [
    "#### Posem nom a les columnes"
   ]
  },
  {
   "cell_type": "code",
   "execution_count": 4,
   "id": "81c102e6",
   "metadata": {},
   "outputs": [
    {
     "data": {
      "text/html": [
       "<div>\n",
       "<style scoped>\n",
       "    .dataframe tbody tr th:only-of-type {\n",
       "        vertical-align: middle;\n",
       "    }\n",
       "\n",
       "    .dataframe tbody tr th {\n",
       "        vertical-align: top;\n",
       "    }\n",
       "\n",
       "    .dataframe thead th {\n",
       "        text-align: right;\n",
       "    }\n",
       "</style>\n",
       "<table border=\"1\" class=\"dataframe\">\n",
       "  <thead>\n",
       "    <tr style=\"text-align: right;\">\n",
       "      <th></th>\n",
       "      <th>Class</th>\n",
       "      <th>Alcohol</th>\n",
       "      <th>Malic acid</th>\n",
       "      <th>Ash</th>\n",
       "      <th>Alcalinity of ash</th>\n",
       "      <th>Magnesium</th>\n",
       "      <th>Total phenols</th>\n",
       "      <th>Flavanoids</th>\n",
       "      <th>Nonflavanoid phenols</th>\n",
       "      <th>Proanthocyanins</th>\n",
       "      <th>Color intensity</th>\n",
       "      <th>Hue</th>\n",
       "      <th>OD280/OD315 of diluted wines</th>\n",
       "      <th>Proline</th>\n",
       "    </tr>\n",
       "  </thead>\n",
       "  <tbody>\n",
       "    <tr>\n",
       "      <th>0</th>\n",
       "      <td>1</td>\n",
       "      <td>14.23</td>\n",
       "      <td>1.71</td>\n",
       "      <td>2.43</td>\n",
       "      <td>15.6</td>\n",
       "      <td>127</td>\n",
       "      <td>2.80</td>\n",
       "      <td>3.06</td>\n",
       "      <td>0.28</td>\n",
       "      <td>2.29</td>\n",
       "      <td>5.64</td>\n",
       "      <td>1.04</td>\n",
       "      <td>3.92</td>\n",
       "      <td>1065</td>\n",
       "    </tr>\n",
       "    <tr>\n",
       "      <th>1</th>\n",
       "      <td>1</td>\n",
       "      <td>13.20</td>\n",
       "      <td>1.78</td>\n",
       "      <td>2.14</td>\n",
       "      <td>11.2</td>\n",
       "      <td>100</td>\n",
       "      <td>2.65</td>\n",
       "      <td>2.76</td>\n",
       "      <td>0.26</td>\n",
       "      <td>1.28</td>\n",
       "      <td>4.38</td>\n",
       "      <td>1.05</td>\n",
       "      <td>3.40</td>\n",
       "      <td>1050</td>\n",
       "    </tr>\n",
       "    <tr>\n",
       "      <th>2</th>\n",
       "      <td>1</td>\n",
       "      <td>13.16</td>\n",
       "      <td>2.36</td>\n",
       "      <td>2.67</td>\n",
       "      <td>18.6</td>\n",
       "      <td>101</td>\n",
       "      <td>2.80</td>\n",
       "      <td>3.24</td>\n",
       "      <td>0.30</td>\n",
       "      <td>2.81</td>\n",
       "      <td>5.68</td>\n",
       "      <td>1.03</td>\n",
       "      <td>3.17</td>\n",
       "      <td>1185</td>\n",
       "    </tr>\n",
       "    <tr>\n",
       "      <th>3</th>\n",
       "      <td>1</td>\n",
       "      <td>14.37</td>\n",
       "      <td>1.95</td>\n",
       "      <td>2.50</td>\n",
       "      <td>16.8</td>\n",
       "      <td>113</td>\n",
       "      <td>3.85</td>\n",
       "      <td>3.49</td>\n",
       "      <td>0.24</td>\n",
       "      <td>2.18</td>\n",
       "      <td>7.80</td>\n",
       "      <td>0.86</td>\n",
       "      <td>3.45</td>\n",
       "      <td>1480</td>\n",
       "    </tr>\n",
       "    <tr>\n",
       "      <th>4</th>\n",
       "      <td>1</td>\n",
       "      <td>13.24</td>\n",
       "      <td>2.59</td>\n",
       "      <td>2.87</td>\n",
       "      <td>21.0</td>\n",
       "      <td>118</td>\n",
       "      <td>2.80</td>\n",
       "      <td>2.69</td>\n",
       "      <td>0.39</td>\n",
       "      <td>1.82</td>\n",
       "      <td>4.32</td>\n",
       "      <td>1.04</td>\n",
       "      <td>2.93</td>\n",
       "      <td>735</td>\n",
       "    </tr>\n",
       "  </tbody>\n",
       "</table>\n",
       "</div>"
      ],
      "text/plain": [
       "   Class   Alcohol  Malic acid   Ash  Alcalinity of ash   Magnesium  \\\n",
       "0      1     14.23        1.71  2.43               15.6         127   \n",
       "1      1     13.20        1.78  2.14               11.2         100   \n",
       "2      1     13.16        2.36  2.67               18.6         101   \n",
       "3      1     14.37        1.95  2.50               16.8         113   \n",
       "4      1     13.24        2.59  2.87               21.0         118   \n",
       "\n",
       "   Total phenols  Flavanoids  Nonflavanoid phenols  Proanthocyanins  \\\n",
       "0           2.80        3.06                  0.28             2.29   \n",
       "1           2.65        2.76                  0.26             1.28   \n",
       "2           2.80        3.24                  0.30             2.81   \n",
       "3           3.85        3.49                  0.24             2.18   \n",
       "4           2.80        2.69                  0.39             1.82   \n",
       "\n",
       "   Color intensity   Hue  OD280/OD315 of diluted wines  Proline  \n",
       "0             5.64  1.04                          3.92     1065  \n",
       "1             4.38  1.05                          3.40     1050  \n",
       "2             5.68  1.03                          3.17     1185  \n",
       "3             7.80  0.86                          3.45     1480  \n",
       "4             4.32  1.04                          2.93      735  "
      ]
     },
     "execution_count": 4,
     "metadata": {},
     "output_type": "execute_result"
    }
   ],
   "source": [
    "wine.columns=['Class',' Alcohol', 'Malic acid', 'Ash', 'Alcalinity of ash',' Magnesium','Total phenols', 'Flavanoids', 'Nonflavanoid phenols',\"Proanthocyanins\", \"Color intensity\", \n",
    "\"Hue\", \"OD280/OD315 of diluted wines\", \"Proline\"]\n",
    "\n",
    "wine.head()"
   ]
  },
  {
   "cell_type": "markdown",
   "id": "90f2b4fe",
   "metadata": {},
   "source": [
    "####  Veiem que alguns noms son una mica llargs, per tant per tal de tenir una lectura més senzilla els tornarem a anomenar."
   ]
  },
  {
   "cell_type": "code",
   "execution_count": 5,
   "id": "77301428",
   "metadata": {},
   "outputs": [
    {
     "data": {
      "text/html": [
       "<div>\n",
       "<style scoped>\n",
       "    .dataframe tbody tr th:only-of-type {\n",
       "        vertical-align: middle;\n",
       "    }\n",
       "\n",
       "    .dataframe tbody tr th {\n",
       "        vertical-align: top;\n",
       "    }\n",
       "\n",
       "    .dataframe thead th {\n",
       "        text-align: right;\n",
       "    }\n",
       "</style>\n",
       "<table border=\"1\" class=\"dataframe\">\n",
       "  <thead>\n",
       "    <tr style=\"text-align: right;\">\n",
       "      <th></th>\n",
       "      <th>Class</th>\n",
       "      <th>Alc</th>\n",
       "      <th>Mal_ac</th>\n",
       "      <th>Ash</th>\n",
       "      <th>A_ash</th>\n",
       "      <th>Magne</th>\n",
       "      <th>T_phen</th>\n",
       "      <th>Fla</th>\n",
       "      <th>Nfla_phen</th>\n",
       "      <th>Proan</th>\n",
       "      <th>Color</th>\n",
       "      <th>Hue</th>\n",
       "      <th>OD_OD</th>\n",
       "      <th>Prol</th>\n",
       "    </tr>\n",
       "  </thead>\n",
       "  <tbody>\n",
       "    <tr>\n",
       "      <th>0</th>\n",
       "      <td>1</td>\n",
       "      <td>14.23</td>\n",
       "      <td>1.71</td>\n",
       "      <td>2.43</td>\n",
       "      <td>15.6</td>\n",
       "      <td>127</td>\n",
       "      <td>2.80</td>\n",
       "      <td>3.06</td>\n",
       "      <td>0.28</td>\n",
       "      <td>2.29</td>\n",
       "      <td>5.64</td>\n",
       "      <td>1.04</td>\n",
       "      <td>3.92</td>\n",
       "      <td>1065</td>\n",
       "    </tr>\n",
       "    <tr>\n",
       "      <th>1</th>\n",
       "      <td>1</td>\n",
       "      <td>13.20</td>\n",
       "      <td>1.78</td>\n",
       "      <td>2.14</td>\n",
       "      <td>11.2</td>\n",
       "      <td>100</td>\n",
       "      <td>2.65</td>\n",
       "      <td>2.76</td>\n",
       "      <td>0.26</td>\n",
       "      <td>1.28</td>\n",
       "      <td>4.38</td>\n",
       "      <td>1.05</td>\n",
       "      <td>3.40</td>\n",
       "      <td>1050</td>\n",
       "    </tr>\n",
       "    <tr>\n",
       "      <th>2</th>\n",
       "      <td>1</td>\n",
       "      <td>13.16</td>\n",
       "      <td>2.36</td>\n",
       "      <td>2.67</td>\n",
       "      <td>18.6</td>\n",
       "      <td>101</td>\n",
       "      <td>2.80</td>\n",
       "      <td>3.24</td>\n",
       "      <td>0.30</td>\n",
       "      <td>2.81</td>\n",
       "      <td>5.68</td>\n",
       "      <td>1.03</td>\n",
       "      <td>3.17</td>\n",
       "      <td>1185</td>\n",
       "    </tr>\n",
       "    <tr>\n",
       "      <th>3</th>\n",
       "      <td>1</td>\n",
       "      <td>14.37</td>\n",
       "      <td>1.95</td>\n",
       "      <td>2.50</td>\n",
       "      <td>16.8</td>\n",
       "      <td>113</td>\n",
       "      <td>3.85</td>\n",
       "      <td>3.49</td>\n",
       "      <td>0.24</td>\n",
       "      <td>2.18</td>\n",
       "      <td>7.80</td>\n",
       "      <td>0.86</td>\n",
       "      <td>3.45</td>\n",
       "      <td>1480</td>\n",
       "    </tr>\n",
       "    <tr>\n",
       "      <th>4</th>\n",
       "      <td>1</td>\n",
       "      <td>13.24</td>\n",
       "      <td>2.59</td>\n",
       "      <td>2.87</td>\n",
       "      <td>21.0</td>\n",
       "      <td>118</td>\n",
       "      <td>2.80</td>\n",
       "      <td>2.69</td>\n",
       "      <td>0.39</td>\n",
       "      <td>1.82</td>\n",
       "      <td>4.32</td>\n",
       "      <td>1.04</td>\n",
       "      <td>2.93</td>\n",
       "      <td>735</td>\n",
       "    </tr>\n",
       "  </tbody>\n",
       "</table>\n",
       "</div>"
      ],
      "text/plain": [
       "   Class    Alc  Mal_ac   Ash  A_ash  Magne  T_phen   Fla  Nfla_phen  Proan  \\\n",
       "0      1  14.23    1.71  2.43   15.6    127    2.80  3.06       0.28   2.29   \n",
       "1      1  13.20    1.78  2.14   11.2    100    2.65  2.76       0.26   1.28   \n",
       "2      1  13.16    2.36  2.67   18.6    101    2.80  3.24       0.30   2.81   \n",
       "3      1  14.37    1.95  2.50   16.8    113    3.85  3.49       0.24   2.18   \n",
       "4      1  13.24    2.59  2.87   21.0    118    2.80  2.69       0.39   1.82   \n",
       "\n",
       "   Color   Hue  OD_OD  Prol  \n",
       "0   5.64  1.04   3.92  1065  \n",
       "1   4.38  1.05   3.40  1050  \n",
       "2   5.68  1.03   3.17  1185  \n",
       "3   7.80  0.86   3.45  1480  \n",
       "4   4.32  1.04   2.93   735  "
      ]
     },
     "execution_count": 5,
     "metadata": {},
     "output_type": "execute_result"
    }
   ],
   "source": [
    "wine.columns = [\"Class\", \"Alc\", \"Mal_ac\", \"Ash\", \"A_ash\", \"Magne\", \"T_phen\", \"Fla\", \"Nfla_phen\", \"Proan\", \"Color\", \"Hue\", \"OD_OD\", \"Prol\"]\n",
    "wine.head()"
   ]
  },
  {
   "cell_type": "markdown",
   "id": "d94b6d4e",
   "metadata": {},
   "source": [
    "#### Definim cada atribut"
   ]
  },
  {
   "cell_type": "markdown",
   "id": "94add0da",
   "metadata": {},
   "source": [
    "1.  **Alc**: La quantitat d'alcohol en percentatge de volum en el vi.\n",
    "2.  **Mal_ac**: La quantitat d'àcid màlic en grams per litre en el vi.\n",
    "3.  **Ash**: La quantitat de cendra en grams per litre en el vi.\n",
    "4.  **A_ash**: La mesura de l'alcalinitat de la cendra en unitats de pH en el vi.\n",
    "5.  **Magne**: La quantitat de magnesi en mil·ligrams per litre en el vi.\n",
    "6.  **T_phen**: La quantitat total de fenols en mil·ligrams per litre en el vi.\n",
    "7.  **Fla**: La quantitat de flavonoïdes en mil·ligrams per litre en el vi.\n",
    "8.  **Nfla_phen**: La quantitat de fenols no flavonoïds en mil·ligrams per litre en el vi.\n",
    "9.  **Proa**: La quantitat de proantocianidines en mil·ligrams per litre en el vi.\n",
    "10. **Color**: L'absorbància a 420 nm de la llum que passa a través del vi.\n",
    "11. **Hue**: La tonalitat del vi mesurada en una escala de 0 a 1.\n",
    "12. **OD_OD**: La relació entre les absorbàncies mesurades a 280 nm i 315 nm.\n",
    "13. **Prol**: La quantitat de proline en mil·ligrams per litre en el vi."
   ]
  },
  {
   "cell_type": "markdown",
   "id": "549cae85",
   "metadata": {},
   "source": [
    "#### Ara mirarem quantes entrades té el dataset i quins tipus de dades trobarem"
   ]
  },
  {
   "cell_type": "code",
   "execution_count": 6,
   "id": "885c63f5",
   "metadata": {
    "scrolled": true
   },
   "outputs": [
    {
     "name": "stdout",
     "output_type": "stream",
     "text": [
      "<class 'pandas.core.frame.DataFrame'>\n",
      "RangeIndex: 178 entries, 0 to 177\n",
      "Data columns (total 14 columns):\n",
      " #   Column     Non-Null Count  Dtype  \n",
      "---  ------     --------------  -----  \n",
      " 0   Class      178 non-null    int64  \n",
      " 1   Alc        178 non-null    float64\n",
      " 2   Mal_ac     178 non-null    float64\n",
      " 3   Ash        178 non-null    float64\n",
      " 4   A_ash      178 non-null    float64\n",
      " 5   Magne      178 non-null    int64  \n",
      " 6   T_phen     178 non-null    float64\n",
      " 7   Fla        178 non-null    float64\n",
      " 8   Nfla_phen  178 non-null    float64\n",
      " 9   Proan      178 non-null    float64\n",
      " 10  Color      178 non-null    float64\n",
      " 11  Hue        178 non-null    float64\n",
      " 12  OD_OD      178 non-null    float64\n",
      " 13  Prol       178 non-null    int64  \n",
      "dtypes: float64(11), int64(3)\n",
      "memory usage: 19.6 KB\n"
     ]
    }
   ],
   "source": [
    "wine.info()"
   ]
  },
  {
   "cell_type": "markdown",
   "id": "36c5d299",
   "metadata": {},
   "source": [
    "El dataset conté 178 entrades i 14 columnes. Segons el tipus de dades tots els atributs són o continus ('Class','Magnesi' i 'Proline') o discrets (tota la resta de atributs). Els atributs discrets ('Magnesi' i 'Proline') són de tipus 'int64' i malgrat podrien haver sigut continus donada la seva naturalesa, a l'estudi han decidit posar valors discrets. Ja hem parlat de qué 'Class' serà el target perquè correspon a una variable categórica o nominal.\n",
    "\n",
    "Segons l'informació que ens entrega el mètode .info sembla que el dataset no conté dades nulls, peró això ho revisarem i confirmarem ara mateix."
   ]
  },
  {
   "cell_type": "markdown",
   "id": "3616c214",
   "metadata": {},
   "source": [
    "### <div style=\"background-color: #D3DDF7; padding: 10px;\"><b>Exploració del dataset</b>\n",
    "\n",
    "</div>"
   ]
  },
  {
   "cell_type": "markdown",
   "id": "98a3d9e0",
   "metadata": {},
   "source": [
    "Primer de tot, confirmarem que no existeixin nulls. També revisarem si hi ha nan's i duplicats."
   ]
  },
  {
   "cell_type": "code",
   "execution_count": 7,
   "id": "152a5ace",
   "metadata": {
    "scrolled": true
   },
   "outputs": [
    {
     "data": {
      "text/plain": [
       "Class        0\n",
       "Alc          0\n",
       "Mal_ac       0\n",
       "Ash          0\n",
       "A_ash        0\n",
       "Magne        0\n",
       "T_phen       0\n",
       "Fla          0\n",
       "Nfla_phen    0\n",
       "Proan        0\n",
       "Color        0\n",
       "Hue          0\n",
       "OD_OD        0\n",
       "Prol         0\n",
       "dtype: int64"
      ]
     },
     "execution_count": 7,
     "metadata": {},
     "output_type": "execute_result"
    }
   ],
   "source": [
    "wine.isnull().sum()"
   ]
  },
  {
   "cell_type": "code",
   "execution_count": 8,
   "id": "09a6c792",
   "metadata": {
    "scrolled": true
   },
   "outputs": [
    {
     "data": {
      "text/plain": [
       "Class        0\n",
       "Alc          0\n",
       "Mal_ac       0\n",
       "Ash          0\n",
       "A_ash        0\n",
       "Magne        0\n",
       "T_phen       0\n",
       "Fla          0\n",
       "Nfla_phen    0\n",
       "Proan        0\n",
       "Color        0\n",
       "Hue          0\n",
       "OD_OD        0\n",
       "Prol         0\n",
       "dtype: int64"
      ]
     },
     "execution_count": 8,
     "metadata": {},
     "output_type": "execute_result"
    }
   ],
   "source": [
    "wine.isna().sum()"
   ]
  },
  {
   "cell_type": "code",
   "execution_count": 9,
   "id": "47cb8d64",
   "metadata": {},
   "outputs": [
    {
     "data": {
      "text/plain": [
       "0"
      ]
     },
     "execution_count": 9,
     "metadata": {},
     "output_type": "execute_result"
    }
   ],
   "source": [
    "wine.duplicated().sum()"
   ]
  },
  {
   "cell_type": "code",
   "execution_count": 10,
   "id": "e3c0dd95",
   "metadata": {},
   "outputs": [
    {
     "data": {
      "text/plain": [
       "<AxesSubplot:>"
      ]
     },
     "execution_count": 10,
     "metadata": {},
     "output_type": "execute_result"
    },
    {
     "data": {
      "image/png": "[encoded data removed]",
      "text/plain": [
       "<Figure size 720x432 with 2 Axes>"
      ]
     },
     "metadata": {
      "needs_background": "light"
     },
     "output_type": "display_data"
    }
   ],
   "source": [
    "msno.matrix(wine, color=(0.0, 0.6, 0.1), figsize=(10,6),fontsize=10)"
   ]
  },
  {
   "cell_type": "markdown",
   "id": "5a1de2bf",
   "metadata": {},
   "source": [
    "Hem comprovat que el dataset no conté nulls, tampoc nans, ni duplicats. Finalment hem aportat una forma de observar la distribució dels duplicats amb la llibreria missigno. Si tiguessim nulls al dataset, la barra asociada a algun atribut canviaria la seva forma. Però, com no tenim dades faltants doncs tenim un rectangle perfecte."
   ]
  },
  {
   "cell_type": "markdown",
   "id": "225f2b4c",
   "metadata": {},
   "source": [
    "### Distribució del nostra target"
   ]
  },
  {
   "cell_type": "markdown",
   "id": "dce4aa4c",
   "metadata": {},
   "source": [
    "Hem vist que la columna que representa el nostre target conté categories, però no sabem quantes són ni com es distribueixen. Doncs, ja que aquesta serà la variable a predir farem una representació ràpida per veure com es comporten les dades de la columna 'Class'."
   ]
  },
  {
   "cell_type": "code",
   "execution_count": 11,
   "id": "33531132",
   "metadata": {},
   "outputs": [
    {
     "data": {
      "text/plain": [
       "3"
      ]
     },
     "execution_count": 11,
     "metadata": {},
     "output_type": "execute_result"
    }
   ],
   "source": [
    "wine['Class'].nunique()"
   ]
  },
  {
   "cell_type": "code",
   "execution_count": 12,
   "id": "352f76d0",
   "metadata": {},
   "outputs": [
    {
     "data": {
      "text/plain": [
       "2    71\n",
       "1    59\n",
       "3    48\n",
       "Name: Class, dtype: int64"
      ]
     },
     "execution_count": 12,
     "metadata": {},
     "output_type": "execute_result"
    }
   ],
   "source": [
    "wine['Class'].value_counts()"
   ]
  },
  {
   "cell_type": "code",
   "execution_count": 13,
   "id": "d0d4ab4c",
   "metadata": {},
   "outputs": [
    {
     "data": {
      "image/png": "[encoded data removed]",
      "text/plain": [
       "<Figure size 576x432 with 1 Axes>"
      ]
     },
     "metadata": {},
     "output_type": "display_data"
    }
   ],
   "source": [
    "plt.figure(figsize=(8,6))\n",
    "plt.title('Freqüencia dades Classes de Vi', fontsize=17)\n",
    "c = ['#70DEF9', '#70F972', '#F97097']\n",
    "\n",
    "wine['Class'].value_counts().plot(kind='pie',autopct='%.0f%%', shadow=True, colors=c, textprops={'fontsize': 14})\n",
    "\n",
    "plt.show()"
   ]
  },
  {
   "cell_type": "markdown",
   "id": "52ef6b62",
   "metadata": {},
   "source": [
    "Les dades dins del nostre target 'Class' es troben distribuïdes de manera relativament heterogènia. La 'Class' dominant és la 2 amb 71 registres, seguit per la 1 amb 59 i la més petita amb 48 registres."
   ]
  },
  {
   "cell_type": "markdown",
   "id": "2bbd11f0",
   "metadata": {},
   "source": [
    "### Altres estadístiques del dataset"
   ]
  },
  {
   "cell_type": "code",
   "execution_count": 14,
   "id": "e29b9e20",
   "metadata": {},
   "outputs": [
    {
     "data": {
      "text/html": [
       "<div>\n",
       "<style scoped>\n",
       "    .dataframe tbody tr th:only-of-type {\n",
       "        vertical-align: middle;\n",
       "    }\n",
       "\n",
       "    .dataframe tbody tr th {\n",
       "        vertical-align: top;\n",
       "    }\n",
       "\n",
       "    .dataframe thead th {\n",
       "        text-align: right;\n",
       "    }\n",
       "</style>\n",
       "<table border=\"1\" class=\"dataframe\">\n",
       "  <thead>\n",
       "    <tr style=\"text-align: right;\">\n",
       "      <th></th>\n",
       "      <th>count</th>\n",
       "      <th>mean</th>\n",
       "      <th>std</th>\n",
       "      <th>min</th>\n",
       "      <th>25%</th>\n",
       "      <th>50%</th>\n",
       "      <th>75%</th>\n",
       "      <th>max</th>\n",
       "    </tr>\n",
       "  </thead>\n",
       "  <tbody>\n",
       "    <tr>\n",
       "      <th>Class</th>\n",
       "      <td>178.0</td>\n",
       "      <td>1.938202</td>\n",
       "      <td>0.775035</td>\n",
       "      <td>1.00</td>\n",
       "      <td>1.0000</td>\n",
       "      <td>2.000</td>\n",
       "      <td>3.0000</td>\n",
       "      <td>3.00</td>\n",
       "    </tr>\n",
       "    <tr>\n",
       "      <th>Alc</th>\n",
       "      <td>178.0</td>\n",
       "      <td>13.000618</td>\n",
       "      <td>0.811827</td>\n",
       "      <td>11.03</td>\n",
       "      <td>12.3625</td>\n",
       "      <td>13.050</td>\n",
       "      <td>13.6775</td>\n",
       "      <td>14.83</td>\n",
       "    </tr>\n",
       "    <tr>\n",
       "      <th>Mal_ac</th>\n",
       "      <td>178.0</td>\n",
       "      <td>2.336348</td>\n",
       "      <td>1.117146</td>\n",
       "      <td>0.74</td>\n",
       "      <td>1.6025</td>\n",
       "      <td>1.865</td>\n",
       "      <td>3.0825</td>\n",
       "      <td>5.80</td>\n",
       "    </tr>\n",
       "    <tr>\n",
       "      <th>Ash</th>\n",
       "      <td>178.0</td>\n",
       "      <td>2.366517</td>\n",
       "      <td>0.274344</td>\n",
       "      <td>1.36</td>\n",
       "      <td>2.2100</td>\n",
       "      <td>2.360</td>\n",
       "      <td>2.5575</td>\n",
       "      <td>3.23</td>\n",
       "    </tr>\n",
       "    <tr>\n",
       "      <th>A_ash</th>\n",
       "      <td>178.0</td>\n",
       "      <td>19.494944</td>\n",
       "      <td>3.339564</td>\n",
       "      <td>10.60</td>\n",
       "      <td>17.2000</td>\n",
       "      <td>19.500</td>\n",
       "      <td>21.5000</td>\n",
       "      <td>30.00</td>\n",
       "    </tr>\n",
       "    <tr>\n",
       "      <th>Magne</th>\n",
       "      <td>178.0</td>\n",
       "      <td>99.741573</td>\n",
       "      <td>14.282484</td>\n",
       "      <td>70.00</td>\n",
       "      <td>88.0000</td>\n",
       "      <td>98.000</td>\n",
       "      <td>107.0000</td>\n",
       "      <td>162.00</td>\n",
       "    </tr>\n",
       "    <tr>\n",
       "      <th>T_phen</th>\n",
       "      <td>178.0</td>\n",
       "      <td>2.295112</td>\n",
       "      <td>0.625851</td>\n",
       "      <td>0.98</td>\n",
       "      <td>1.7425</td>\n",
       "      <td>2.355</td>\n",
       "      <td>2.8000</td>\n",
       "      <td>3.88</td>\n",
       "    </tr>\n",
       "    <tr>\n",
       "      <th>Fla</th>\n",
       "      <td>178.0</td>\n",
       "      <td>2.029270</td>\n",
       "      <td>0.998859</td>\n",
       "      <td>0.34</td>\n",
       "      <td>1.2050</td>\n",
       "      <td>2.135</td>\n",
       "      <td>2.8750</td>\n",
       "      <td>5.08</td>\n",
       "    </tr>\n",
       "    <tr>\n",
       "      <th>Nfla_phen</th>\n",
       "      <td>178.0</td>\n",
       "      <td>0.361854</td>\n",
       "      <td>0.124453</td>\n",
       "      <td>0.13</td>\n",
       "      <td>0.2700</td>\n",
       "      <td>0.340</td>\n",
       "      <td>0.4375</td>\n",
       "      <td>0.66</td>\n",
       "    </tr>\n",
       "    <tr>\n",
       "      <th>Proan</th>\n",
       "      <td>178.0</td>\n",
       "      <td>1.590899</td>\n",
       "      <td>0.572359</td>\n",
       "      <td>0.41</td>\n",
       "      <td>1.2500</td>\n",
       "      <td>1.555</td>\n",
       "      <td>1.9500</td>\n",
       "      <td>3.58</td>\n",
       "    </tr>\n",
       "    <tr>\n",
       "      <th>Color</th>\n",
       "      <td>178.0</td>\n",
       "      <td>5.058090</td>\n",
       "      <td>2.318286</td>\n",
       "      <td>1.28</td>\n",
       "      <td>3.2200</td>\n",
       "      <td>4.690</td>\n",
       "      <td>6.2000</td>\n",
       "      <td>13.00</td>\n",
       "    </tr>\n",
       "    <tr>\n",
       "      <th>Hue</th>\n",
       "      <td>178.0</td>\n",
       "      <td>0.957449</td>\n",
       "      <td>0.228572</td>\n",
       "      <td>0.48</td>\n",
       "      <td>0.7825</td>\n",
       "      <td>0.965</td>\n",
       "      <td>1.1200</td>\n",
       "      <td>1.71</td>\n",
       "    </tr>\n",
       "    <tr>\n",
       "      <th>OD_OD</th>\n",
       "      <td>178.0</td>\n",
       "      <td>2.611685</td>\n",
       "      <td>0.709990</td>\n",
       "      <td>1.27</td>\n",
       "      <td>1.9375</td>\n",
       "      <td>2.780</td>\n",
       "      <td>3.1700</td>\n",
       "      <td>4.00</td>\n",
       "    </tr>\n",
       "    <tr>\n",
       "      <th>Prol</th>\n",
       "      <td>178.0</td>\n",
       "      <td>746.893258</td>\n",
       "      <td>314.907474</td>\n",
       "      <td>278.00</td>\n",
       "      <td>500.5000</td>\n",
       "      <td>673.500</td>\n",
       "      <td>985.0000</td>\n",
       "      <td>1680.00</td>\n",
       "    </tr>\n",
       "  </tbody>\n",
       "</table>\n",
       "</div>"
      ],
      "text/plain": [
       "           count        mean         std     min       25%      50%       75%  \\\n",
       "Class      178.0    1.938202    0.775035    1.00    1.0000    2.000    3.0000   \n",
       "Alc        178.0   13.000618    0.811827   11.03   12.3625   13.050   13.6775   \n",
       "Mal_ac     178.0    2.336348    1.117146    0.74    1.6025    1.865    3.0825   \n",
       "Ash        178.0    2.366517    0.274344    1.36    2.2100    2.360    2.5575   \n",
       "A_ash      178.0   19.494944    3.339564   10.60   17.2000   19.500   21.5000   \n",
       "Magne      178.0   99.741573   14.282484   70.00   88.0000   98.000  107.0000   \n",
       "T_phen     178.0    2.295112    0.625851    0.98    1.7425    2.355    2.8000   \n",
       "Fla        178.0    2.029270    0.998859    0.34    1.2050    2.135    2.8750   \n",
       "Nfla_phen  178.0    0.361854    0.124453    0.13    0.2700    0.340    0.4375   \n",
       "Proan      178.0    1.590899    0.572359    0.41    1.2500    1.555    1.9500   \n",
       "Color      178.0    5.058090    2.318286    1.28    3.2200    4.690    6.2000   \n",
       "Hue        178.0    0.957449    0.228572    0.48    0.7825    0.965    1.1200   \n",
       "OD_OD      178.0    2.611685    0.709990    1.27    1.9375    2.780    3.1700   \n",
       "Prol       178.0  746.893258  314.907474  278.00  500.5000  673.500  985.0000   \n",
       "\n",
       "               max  \n",
       "Class         3.00  \n",
       "Alc          14.83  \n",
       "Mal_ac        5.80  \n",
       "Ash           3.23  \n",
       "A_ash        30.00  \n",
       "Magne       162.00  \n",
       "T_phen        3.88  \n",
       "Fla           5.08  \n",
       "Nfla_phen     0.66  \n",
       "Proan         3.58  \n",
       "Color        13.00  \n",
       "Hue           1.71  \n",
       "OD_OD         4.00  \n",
       "Prol       1680.00  "
      ]
     },
     "execution_count": 14,
     "metadata": {},
     "output_type": "execute_result"
    }
   ],
   "source": [
    "wine.describe().T"
   ]
  },
  {
   "cell_type": "markdown",
   "id": "fabdc233",
   "metadata": {},
   "source": [
    "Resumen de les coses més importants del 'describe':\n",
    "\n",
    "1. A primera vista podriem intuir que les variables tenen un comportament bastant equilibrat. Això, perquè veiem que les mitjas i la mitjana es troben bastant aprop, excepte en casos particulars com a 'mal_ac', 'Color' i 'Prol' on  veiem certa diferència.\n",
    "2. Si mirem les desviacions stàndard, l'anàlisi segueix un camí semblant al del punt 1. Es a dir, que els tres atributs ('mal_ac', 'Color' i 'Prol') porten una desviació aparentment més alta que els altres atributs i per tant que possiblement ens trobarem amb dades més disperses en aquests atributs.\n",
    "3. Una cosa que no hem dit fins ara, és que les dades no es troben estandaritzades ni escalades. Aixó dificulta la lectura i comparació en aquesta part de l'anàlisi i per descomptet ens crida a fer els preprocessats correponents per efectes d'aplicar models d'aprenentatge automatitzats."
   ]
  },
  {
   "cell_type": "markdown",
   "id": "b9bfb2d1",
   "metadata": {},
   "source": [
    "#### Ara mirarem com és la correlació entre tots els atributs del dataset"
   ]
  },
  {
   "cell_type": "code",
   "execution_count": 15,
   "id": "40e245da",
   "metadata": {},
   "outputs": [
    {
     "data": {
      "image/png": "[encoded data removed]",
      "text/plain": [
       "<Figure size 936x576 with 2 Axes>"
      ]
     },
     "metadata": {
      "needs_background": "light"
     },
     "output_type": "display_data"
    }
   ],
   "source": [
    "plt.figure(figsize=(13,8))\n",
    "mask = np.triu(np.ones_like(wine.corr()))\n",
    "\n",
    "sns.heatmap(wine.corr(), mask=mask, vmin=-1, vmax=1, annot=True)\n",
    "\n",
    "plt.show()"
   ]
  },
  {
   "cell_type": "markdown",
   "id": "1cb96376",
   "metadata": {},
   "source": [
    "Alguns comentaris de l'anàlisi de correlació del dataset:\n",
    "\n",
    "1. El nostre target 'Class' té un correlació forta amb dos atributs ('OD_OD' i 'Fla') amb un 80% i un 85% corresponenment. desprès tenim un tercer atribut amb correlació alta ('T_Phen'). S'ha de dir que totes aquestes altes correlacions són negatives o inversament proporcionals.\n",
    "2. En un segon grup tindriam amb una correlació que ens desperta interès els atributs 'Prol' i 'Hue' amb un 63% i 62% respectivament. També negatius.\n",
    "3. Fins ara, amb aquestes dades i aquest nivell d'anàlisi podem dir que cap atribut té una alta correlació positiva amb el target.\n",
    "4. Per un altre banda ,podem destacar que el atribut OD_OD, no només té una alta correlació amb el nostre target, sinó que també la en té amb 'T_phen' i 'Fla'(però aquí de manera possitiva). També hem de dir que aquests últims atributs mencionats tenen entre ells mateixos la correlació més alta del dataset amb 86% (positiva).\n",
    "5. Per una altre banda, atributs com 'Color' i 'Magne' o 'Fla' i 'Magne' o 'Ash' i 'Alc', tenen de les correlacions més baixes del dataset.\n",
    "\n"
   ]
  },
  {
   "cell_type": "markdown",
   "id": "e8be05ac",
   "metadata": {},
   "source": [
    "#### Un anàlisi molt important abans de fer qualsevol preprocessament és observar si els atributs tenen dades outliers. Aprofitarem per veure també la seva distribució i començar a intuir si és normal o no."
   ]
  },
  {
   "cell_type": "code",
   "execution_count": 16,
   "id": "478974f8",
   "metadata": {},
   "outputs": [
    {
     "data": {
      "image/png": "[encoded data removed]",
      "text/plain": [
       "<Figure size 720x216 with 2 Axes>"
      ]
     },
     "metadata": {
      "needs_background": "light"
     },
     "output_type": "display_data"
    },
    {
     "data": {
      "image/png": "[encoded data removed]",
      "text/plain": [
       "<Figure size 720x216 with 2 Axes>"
      ]
     },
     "metadata": {
      "needs_background": "light"
     },
     "output_type": "display_data"
    },
    {
     "data": {
      "image/png": "[encoded data removed]",
      "text/plain": [
       "<Figure size 720x216 with 2 Axes>"
      ]
     },
     "metadata": {
      "needs_background": "light"
     },
     "output_type": "display_data"
    },
    {
     "data": {
      "image/png": "[encoded data removed]",
      "text/plain": [
       "<Figure size 720x216 with 2 Axes>"
      ]
     },
     "metadata": {
      "needs_background": "light"
     },
     "output_type": "display_data"
    },
    {
     "data": {
      "image/png": "[encoded data removed]",
      "text/plain": [
       "<Figure size 720x216 with 2 Axes>"
      ]
     },
     "metadata": {
      "needs_background": "light"
     },
     "output_type": "display_data"
    },
    {
     "data": {
      "image/png": "[encoded data removed]",
      "text/plain": [
       "<Figure size 720x216 with 2 Axes>"
      ]
     },
     "metadata": {
      "needs_background": "light"
     },
     "output_type": "display_data"
    },
    {
     "data": {
      "image/png": "[encoded data removed]",
      "text/plain": [
       "<Figure size 720x216 with 2 Axes>"
      ]
     },
     "metadata": {
      "needs_background": "light"
     },
     "output_type": "display_data"
    },
    {
     "data": {
      "image/png": "[encoded data removed]",
      "text/plain": [
       "<Figure size 720x216 with 2 Axes>"
      ]
     },
     "metadata": {
      "needs_background": "light"
     },
     "output_type": "display_data"
    },
    {
     "data": {
      "image/png": "[encoded data removed]",
      "text/plain": [
       "<Figure size 720x216 with 2 Axes>"
      ]
     },
     "metadata": {
      "needs_background": "light"
     },
     "output_type": "display_data"
    },
    {
     "data": {
      "image/png": "[encoded data removed]",
      "text/plain": [
       "<Figure size 720x216 with 2 Axes>"
      ]
     },
     "metadata": {
      "needs_background": "light"
     },
     "output_type": "display_data"
    },
    {
     "data": {
      "image/png": "[encoded data removed]",
      "text/plain": [
       "<Figure size 720x216 with 2 Axes>"
      ]
     },
     "metadata": {
      "needs_background": "light"
     },
     "output_type": "display_data"
    },
    {
     "data": {
      "image/png": "[encoded data removed]",
      "text/plain": [
       "<Figure size 720x216 with 2 Axes>"
      ]
     },
     "metadata": {
      "needs_background": "light"
     },
     "output_type": "display_data"
    },
    {
     "data": {
      "image/png": "[encoded data removed]",
      "text/plain": [
       "<Figure size 720x216 with 2 Axes>"
      ]
     },
     "metadata": {
      "needs_background": "light"
     },
     "output_type": "display_data"
    },
    {
     "data": {
      "image/png": "[encoded data removed]",
      "text/plain": [
       "<Figure size 720x216 with 2 Axes>"
      ]
     },
     "metadata": {
      "needs_background": "light"
     },
     "output_type": "display_data"
    }
   ],
   "source": [
    "for atribut in wine:\n",
    "    fig, axes = plt.subplots(1,2, figsize = (10,3))\n",
    "    fig.suptitle('Distribució i outliers', fontsize=20)\n",
    "    sns.histplot(data=wine, ax=axes[0],  x=wine[atribut], bins=20, color='#F97097', kde=True)\n",
    "    sns.boxplot(ax=axes[1], x =wine[atribut], color='#7BAE6F')\n",
    "    \n",
    "\n",
    "plt.show()"
   ]
  },
  {
   "cell_type": "markdown",
   "id": "de41b1b2",
   "metadata": {},
   "source": [
    "Alguns comentaris:\n",
    "\n",
    "1. A través del histograma podem veure que les dades en alguns atributs tenen un biaix cap a l'esquerra o cap a la dreta. Per exemple en el gràfic del atribut 'Color', ja haviem comentat que hi havia una diferència entre la mitjana i la mitja. Aquí podem veure com les dades tenen una forta tendencia cap a l'esquerra.\n",
    "2. Per un altre costat, és difícil assegurar només amb aquestes gràfiques si alguna distribució és normal. Aparentment la majoria sembla que no ho és. Potser un parell si que ho podrien ser ('Ash','A_ash'). Però, aixó ho comprovarem en els següents apartats.\n",
    "3. En quant els boxplots podem resumir que els atributs ('Mal_ac', 'Ash', 'A_ash', 'Magne', 'Proan', 'Color' i 'Hue') contenen outliers. Amb aquests atributs probablement es farà una normalització específica com a preprocessament."
   ]
  },
  {
   "cell_type": "markdown",
   "id": "19e58cc0",
   "metadata": {},
   "source": [
    "### Revisem quins atributs tenen distribució normal"
   ]
  },
  {
   "cell_type": "markdown",
   "id": "715e2d8f",
   "metadata": {},
   "source": [
    "Comprovarem el següent per tots els atributs del datset:\n",
    "    \n",
    "1.    Hipòtesi nul·la (H0): La mostra té una distribució normal\n",
    "2.    Hipòtesi alternativa (H1): La mostra no té una distribució normal"
   ]
  },
  {
   "cell_type": "code",
   "execution_count": 17,
   "id": "83527623",
   "metadata": {},
   "outputs": [
    {
     "name": "stdout",
     "output_type": "stream",
     "text": [
      "La variable  Class amb un p-value de  3.526998097335039e-14\n",
      "\u001b[1mPodem\u001b[0m rebutjar l'hipotesis nula, la mostra \u001b[1mNo té\u001b[0m una distribució normal.\n",
      "\n",
      "La variable  Alc amb un p-value de  0.02005171775817871\n",
      "\u001b[1mPodem\u001b[0m rebutjar l'hipotesis nula, la mostra \u001b[1mNo té\u001b[0m una distribució normal.\n",
      "\n",
      "La variable  Mal_ac amb un p-value de  2.9459296113643063e-10\n",
      "\u001b[1mPodem\u001b[0m rebutjar l'hipotesis nula, la mostra \u001b[1mNo té\u001b[0m una distribució normal.\n",
      "\n",
      "La variable  Ash amb un p-value de  0.03868526220321655\n",
      "\u001b[1mPodem\u001b[0m rebutjar l'hipotesis nula, la mostra \u001b[1mNo té\u001b[0m una distribució normal.\n",
      "\n",
      "La variable  A_ash amb un p-value de  0.26386943459510803\n",
      "\u001b[1mNo podem\u001b[0m rebutjar hipotesis nula, la mostra \u001b[1mTé\u001b[0m una distribució normal.\n",
      "\n",
      "La variable  Magne amb un p-value de  6.345416068143095e-07\n",
      "\u001b[1mPodem\u001b[0m rebutjar l'hipotesis nula, la mostra \u001b[1mNo té\u001b[0m una distribució normal.\n",
      "\n",
      "La variable  T_phen amb un p-value de  0.004395752213895321\n",
      "\u001b[1mPodem\u001b[0m rebutjar l'hipotesis nula, la mostra \u001b[1mNo té\u001b[0m una distribució normal.\n",
      "\n",
      "La variable  Fla amb un p-value de  1.6790636436780915e-05\n",
      "\u001b[1mPodem\u001b[0m rebutjar l'hipotesis nula, la mostra \u001b[1mNo té\u001b[0m una distribució normal.\n",
      "\n",
      "La variable  Nfla_phen amb un p-value de  0.00010552661115070805\n",
      "\u001b[1mPodem\u001b[0m rebutjar l'hipotesis nula, la mostra \u001b[1mNo té\u001b[0m una distribució normal.\n",
      "\n",
      "La variable  Proan amb un p-value de  0.01445337850600481\n",
      "\u001b[1mPodem\u001b[0m rebutjar l'hipotesis nula, la mostra \u001b[1mNo té\u001b[0m una distribució normal.\n",
      "\n",
      "La variable  Color amb un p-value de  9.22947720027878e-07\n",
      "\u001b[1mPodem\u001b[0m rebutjar l'hipotesis nula, la mostra \u001b[1mNo té\u001b[0m una distribució normal.\n",
      "\n",
      "La variable  Hue amb un p-value de  0.01742566004395485\n",
      "\u001b[1mPodem\u001b[0m rebutjar l'hipotesis nula, la mostra \u001b[1mNo té\u001b[0m una distribució normal.\n",
      "\n",
      "La variable  OD_OD amb un p-value de  2.3160500859376043e-06\n",
      "\u001b[1mPodem\u001b[0m rebutjar l'hipotesis nula, la mostra \u001b[1mNo té\u001b[0m una distribució normal.\n",
      "\n",
      "La variable  Prol amb un p-value de  1.7412214958767436e-07\n",
      "\u001b[1mPodem\u001b[0m rebutjar l'hipotesis nula, la mostra \u001b[1mNo té\u001b[0m una distribució normal.\n",
      "\n"
     ]
    }
   ],
   "source": [
    "from scipy import stats\n",
    "\n",
    "for i in wine.columns:\n",
    "    shapiro_test = stats.shapiro(wine[i])\n",
    "    print('La variable ', i, \"amb un p-value de \", shapiro_test.pvalue)\n",
    "    if shapiro_test.pvalue>0.05:\n",
    "        print('\\033[1mNo podem\\033[0m rebutjar hipotesis nula, la mostra \\033[1mTé\\033[0m una distribució normal.\\n')\n",
    "    else:\n",
    "        print(\"\\033[1mPodem\\033[0m rebutjar l'hipotesis nula, la mostra \\033[1mNo té\\033[0m una distribució normal.\\n\")"
   ]
  },
  {
   "cell_type": "markdown",
   "id": "6d15ef85",
   "metadata": {},
   "source": [
    "### Resumen abans del preprocessat"
   ]
  },
  {
   "cell_type": "markdown",
   "id": "b894b478",
   "metadata": {},
   "source": [
    "Com ja sabem hem de normalitzar i estandaritzar el nostre dataset (menys el target) per poder aplicar posteriorment models de machine learning. Ara que ja sabem quins atributs tenen una distribució gaussiana i quins no, i a més a més sabem quins atributs tenen outliers, podem definir quines tècniques farem servir:\n",
    "\n",
    "1. StandardScaler (gaussianes): 'A_ash'\n",
    "2. RobustScaler   (no gaussianes amb outliers):  ['Mal_ac', 'Ash', 'Magne', 'Proan', 'Color' i 'Hue']\n",
    "3. ScalerNorm     (no gussianes sense outliers): ['Alc', 'T_phen', 'Fla', 'Nfla_phen', 'OD_OD', 'Prol']"
   ]
  },
  {
   "cell_type": "markdown",
   "id": "0e3db8d8",
   "metadata": {},
   "source": [
    "### <div style=\"background-color: #D3DDF7; padding: 10px;\"><b>Preprocessat</b>\n",
    "\n",
    "</div>"
   ]
  },
  {
   "cell_type": "code",
   "execution_count": 18,
   "id": "470523bd",
   "metadata": {},
   "outputs": [
    {
     "data": {
      "text/html": [
       "<div>\n",
       "<style scoped>\n",
       "    .dataframe tbody tr th:only-of-type {\n",
       "        vertical-align: middle;\n",
       "    }\n",
       "\n",
       "    .dataframe tbody tr th {\n",
       "        vertical-align: top;\n",
       "    }\n",
       "\n",
       "    .dataframe thead th {\n",
       "        text-align: right;\n",
       "    }\n",
       "</style>\n",
       "<table border=\"1\" class=\"dataframe\">\n",
       "  <thead>\n",
       "    <tr style=\"text-align: right;\">\n",
       "      <th></th>\n",
       "      <th>Class</th>\n",
       "      <th>Alc</th>\n",
       "      <th>Mal_ac</th>\n",
       "      <th>Ash</th>\n",
       "      <th>A_ash</th>\n",
       "      <th>Magne</th>\n",
       "      <th>T_phen</th>\n",
       "      <th>Fla</th>\n",
       "      <th>Nfla_phen</th>\n",
       "      <th>Proan</th>\n",
       "      <th>Color</th>\n",
       "      <th>Hue</th>\n",
       "      <th>OD_OD</th>\n",
       "      <th>Prol</th>\n",
       "    </tr>\n",
       "  </thead>\n",
       "  <tbody>\n",
       "    <tr>\n",
       "      <th>0</th>\n",
       "      <td>1</td>\n",
       "      <td>0.842105</td>\n",
       "      <td>-0.104730</td>\n",
       "      <td>0.201439</td>\n",
       "      <td>-1.169593</td>\n",
       "      <td>1.526316</td>\n",
       "      <td>0.627586</td>\n",
       "      <td>0.573840</td>\n",
       "      <td>0.283019</td>\n",
       "      <td>1.050000</td>\n",
       "      <td>0.318792</td>\n",
       "      <td>0.222222</td>\n",
       "      <td>0.970696</td>\n",
       "      <td>0.561341</td>\n",
       "    </tr>\n",
       "    <tr>\n",
       "      <th>1</th>\n",
       "      <td>1</td>\n",
       "      <td>0.571053</td>\n",
       "      <td>-0.057432</td>\n",
       "      <td>-0.633094</td>\n",
       "      <td>-2.490847</td>\n",
       "      <td>0.105263</td>\n",
       "      <td>0.575862</td>\n",
       "      <td>0.510549</td>\n",
       "      <td>0.245283</td>\n",
       "      <td>-0.392857</td>\n",
       "      <td>-0.104027</td>\n",
       "      <td>0.251852</td>\n",
       "      <td>0.780220</td>\n",
       "      <td>0.550642</td>\n",
       "    </tr>\n",
       "    <tr>\n",
       "      <th>2</th>\n",
       "      <td>1</td>\n",
       "      <td>0.560526</td>\n",
       "      <td>0.334459</td>\n",
       "      <td>0.892086</td>\n",
       "      <td>-0.268738</td>\n",
       "      <td>0.157895</td>\n",
       "      <td>0.627586</td>\n",
       "      <td>0.611814</td>\n",
       "      <td>0.320755</td>\n",
       "      <td>1.792857</td>\n",
       "      <td>0.332215</td>\n",
       "      <td>0.192593</td>\n",
       "      <td>0.695971</td>\n",
       "      <td>0.646933</td>\n",
       "    </tr>\n",
       "    <tr>\n",
       "      <th>3</th>\n",
       "      <td>1</td>\n",
       "      <td>0.878947</td>\n",
       "      <td>0.057432</td>\n",
       "      <td>0.402878</td>\n",
       "      <td>-0.809251</td>\n",
       "      <td>0.789474</td>\n",
       "      <td>0.989655</td>\n",
       "      <td>0.664557</td>\n",
       "      <td>0.207547</td>\n",
       "      <td>0.892857</td>\n",
       "      <td>1.043624</td>\n",
       "      <td>-0.311111</td>\n",
       "      <td>0.798535</td>\n",
       "      <td>0.857347</td>\n",
       "    </tr>\n",
       "    <tr>\n",
       "      <th>4</th>\n",
       "      <td>1</td>\n",
       "      <td>0.581579</td>\n",
       "      <td>0.489865</td>\n",
       "      <td>1.467626</td>\n",
       "      <td>0.451946</td>\n",
       "      <td>1.052632</td>\n",
       "      <td>0.627586</td>\n",
       "      <td>0.495781</td>\n",
       "      <td>0.490566</td>\n",
       "      <td>0.378571</td>\n",
       "      <td>-0.124161</td>\n",
       "      <td>0.222222</td>\n",
       "      <td>0.608059</td>\n",
       "      <td>0.325963</td>\n",
       "    </tr>\n",
       "    <tr>\n",
       "      <th>5</th>\n",
       "      <td>1</td>\n",
       "      <td>0.834211</td>\n",
       "      <td>-0.070946</td>\n",
       "      <td>0.258993</td>\n",
       "      <td>-1.289707</td>\n",
       "      <td>0.736842</td>\n",
       "      <td>0.789655</td>\n",
       "      <td>0.643460</td>\n",
       "      <td>0.396226</td>\n",
       "      <td>0.592857</td>\n",
       "      <td>0.691275</td>\n",
       "      <td>0.251852</td>\n",
       "      <td>0.578755</td>\n",
       "      <td>0.835949</td>\n",
       "    </tr>\n",
       "    <tr>\n",
       "      <th>6</th>\n",
       "      <td>1</td>\n",
       "      <td>0.884211</td>\n",
       "      <td>0.003378</td>\n",
       "      <td>0.258993</td>\n",
       "      <td>-1.469878</td>\n",
       "      <td>-0.105263</td>\n",
       "      <td>0.524138</td>\n",
       "      <td>0.459916</td>\n",
       "      <td>0.320755</td>\n",
       "      <td>0.607143</td>\n",
       "      <td>0.187919</td>\n",
       "      <td>0.162963</td>\n",
       "      <td>0.846154</td>\n",
       "      <td>0.721826</td>\n",
       "    </tr>\n",
       "    <tr>\n",
       "      <th>7</th>\n",
       "      <td>1</td>\n",
       "      <td>0.797368</td>\n",
       "      <td>0.192568</td>\n",
       "      <td>0.719424</td>\n",
       "      <td>-0.569023</td>\n",
       "      <td>1.210526</td>\n",
       "      <td>0.558621</td>\n",
       "      <td>0.457806</td>\n",
       "      <td>0.339623</td>\n",
       "      <td>-0.435714</td>\n",
       "      <td>0.120805</td>\n",
       "      <td>0.281481</td>\n",
       "      <td>0.846154</td>\n",
       "      <td>0.725392</td>\n",
       "    </tr>\n",
       "    <tr>\n",
       "      <th>8</th>\n",
       "      <td>1</td>\n",
       "      <td>1.000000</td>\n",
       "      <td>-0.152027</td>\n",
       "      <td>-0.546763</td>\n",
       "      <td>-1.650049</td>\n",
       "      <td>-0.052632</td>\n",
       "      <td>0.627586</td>\n",
       "      <td>0.556962</td>\n",
       "      <td>0.301887</td>\n",
       "      <td>0.607143</td>\n",
       "      <td>0.171141</td>\n",
       "      <td>0.340741</td>\n",
       "      <td>0.578755</td>\n",
       "      <td>0.547076</td>\n",
       "    </tr>\n",
       "    <tr>\n",
       "      <th>9</th>\n",
       "      <td>1</td>\n",
       "      <td>0.744737</td>\n",
       "      <td>-0.347973</td>\n",
       "      <td>-0.258993</td>\n",
       "      <td>-1.049479</td>\n",
       "      <td>0.000000</td>\n",
       "      <td>0.689655</td>\n",
       "      <td>0.592827</td>\n",
       "      <td>0.169811</td>\n",
       "      <td>0.421429</td>\n",
       "      <td>0.848993</td>\n",
       "      <td>0.133333</td>\n",
       "      <td>0.835165</td>\n",
       "      <td>0.547076</td>\n",
       "    </tr>\n",
       "  </tbody>\n",
       "</table>\n",
       "</div>"
      ],
      "text/plain": [
       "   Class       Alc    Mal_ac       Ash     A_ash     Magne    T_phen  \\\n",
       "0      1  0.842105 -0.104730  0.201439 -1.169593  1.526316  0.627586   \n",
       "1      1  0.571053 -0.057432 -0.633094 -2.490847  0.105263  0.575862   \n",
       "2      1  0.560526  0.334459  0.892086 -0.268738  0.157895  0.627586   \n",
       "3      1  0.878947  0.057432  0.402878 -0.809251  0.789474  0.989655   \n",
       "4      1  0.581579  0.489865  1.467626  0.451946  1.052632  0.627586   \n",
       "5      1  0.834211 -0.070946  0.258993 -1.289707  0.736842  0.789655   \n",
       "6      1  0.884211  0.003378  0.258993 -1.469878 -0.105263  0.524138   \n",
       "7      1  0.797368  0.192568  0.719424 -0.569023  1.210526  0.558621   \n",
       "8      1  1.000000 -0.152027 -0.546763 -1.650049 -0.052632  0.627586   \n",
       "9      1  0.744737 -0.347973 -0.258993 -1.049479  0.000000  0.689655   \n",
       "\n",
       "        Fla  Nfla_phen     Proan     Color       Hue     OD_OD      Prol  \n",
       "0  0.573840   0.283019  1.050000  0.318792  0.222222  0.970696  0.561341  \n",
       "1  0.510549   0.245283 -0.392857 -0.104027  0.251852  0.780220  0.550642  \n",
       "2  0.611814   0.320755  1.792857  0.332215  0.192593  0.695971  0.646933  \n",
       "3  0.664557   0.207547  0.892857  1.043624 -0.311111  0.798535  0.857347  \n",
       "4  0.495781   0.490566  0.378571 -0.124161  0.222222  0.608059  0.325963  \n",
       "5  0.643460   0.396226  0.592857  0.691275  0.251852  0.578755  0.835949  \n",
       "6  0.459916   0.320755  0.607143  0.187919  0.162963  0.846154  0.721826  \n",
       "7  0.457806   0.339623 -0.435714  0.120805  0.281481  0.846154  0.725392  \n",
       "8  0.556962   0.301887  0.607143  0.171141  0.340741  0.578755  0.547076  \n",
       "9  0.592827   0.169811  0.421429  0.848993  0.133333  0.835165  0.547076  "
      ]
     },
     "execution_count": 18,
     "metadata": {},
     "output_type": "execute_result"
    }
   ],
   "source": [
    "from sklearn import preprocessing\n",
    "\n",
    "# Fit and Transform with StandarScaler\n",
    "sts = preprocessing.StandardScaler().fit(wine[['A_ash']])\n",
    "wine['A_ash'] = sts.transform(wine[['A_ash']])\n",
    "\n",
    "# Fit and Transform with RobustScaler\n",
    "robs = preprocessing.RobustScaler().fit(wine[['Mal_ac', 'Ash', 'Magne', 'Proan', 'Color', 'Hue']])\n",
    "wine[['Mal_ac', 'Ash', 'Magne', 'Proan', 'Color', 'Hue']] = robs.transform(wine[['Mal_ac', 'Ash', 'Magne', 'Proan', 'Color', 'Hue']])\n",
    "\n",
    "# Fit and transform with ScalerNorm\n",
    "\n",
    "sn = preprocessing.MinMaxScaler().fit(wine[['Alc', 'T_phen', 'Fla', 'Nfla_phen', 'OD_OD', 'Prol']])\n",
    "wine[['Alc', 'T_phen', 'Fla', 'Nfla_phen', 'OD_OD', 'Prol']] = sn.transform(wine[['Alc', 'T_phen', 'Fla', 'Nfla_phen', 'OD_OD', 'Prol']])\n",
    "\n",
    "wine.head(10)"
   ]
  },
  {
   "cell_type": "markdown",
   "id": "0a63f25a",
   "metadata": {},
   "source": [
    "Podem veure que els atributs es troben normalitzats i/o escalats. farem servir un boxplot per comprar les seves mitjanes i distribucions."
   ]
  },
  {
   "cell_type": "code",
   "execution_count": 19,
   "id": "3410b094",
   "metadata": {},
   "outputs": [
    {
     "data": {
      "image/png": "[encoded data removed]",
      "text/plain": [
       "<Figure size 1008x720 with 1 Axes>"
      ]
     },
     "metadata": {
      "needs_background": "light"
     },
     "output_type": "display_data"
    }
   ],
   "source": [
    "plt.figure(figsize=(14, 10))\n",
    "sns.boxplot(data=wine)\n",
    "plt.title('Escala i normalizació de les variables numèriques\\n', size = 14)\n",
    "plt.show()"
   ]
  },
  {
   "cell_type": "markdown",
   "id": "0e264a12",
   "metadata": {},
   "source": [
    "Veiem com totes les dades es troben entre 0 i 1 (per descomptat les seves mitjanes també, menys el target). Veiem també que el atribut 'A_ash' té una dispersió important, juntament amb 'Ash', 'Magne' i 'Proan'. A continuació dividirem el dataset en Train i test per tal de fer servir aquestes dades en diferents models de classificació."
   ]
  },
  {
   "cell_type": "markdown",
   "id": "0fa9abcb",
   "metadata": {},
   "source": [
    "### <div style=\"background-color: #D3DDF7; padding: 10px;\"><b>Divisió Train / Test</b>\n",
    "\n",
    "</div>"
   ]
  },
  {
   "cell_type": "code",
   "execution_count": 20,
   "id": "3d2540ab",
   "metadata": {},
   "outputs": [
    {
     "name": "stdout",
     "output_type": "stream",
     "text": [
      "Shape X_train: (142, 13) \n",
      "Shape X_test: (36, 13) \n",
      "Shape y_train: (142,) \n",
      "Shape y_test: (36,)\n"
     ]
    }
   ],
   "source": [
    "X = wine.drop(['Class'],axis=1)\n",
    "y = wine['Class'] #Target\n",
    "\n",
    "from sklearn.model_selection import train_test_split\n",
    "\n",
    "X_train, X_test, y_train, y_test = train_test_split(X, y, test_size=0.20, random_state=42)\n",
    "print(\"Shape X_train:\", X_train.shape, \"\\nShape X_test:\", X_test.shape, \n",
    "      \"\\nShape y_train:\", y_train.shape, \"\\nShape y_test:\",y_test.shape)"
   ]
  },
  {
   "cell_type": "markdown",
   "id": "0ef477fc",
   "metadata": {},
   "source": [
    "### <div style=\"background-color: #D3DDF7; padding: 10px;\"><b>Produir Models</b>\n",
    "\n",
    "</div>"
   ]
  },
  {
   "cell_type": "markdown",
   "id": "65aaaad9",
   "metadata": {},
   "source": [
    "Tenim moltes possibilitats a l'hora de escollir un model de classificació. Existeixen almenys més de deu models popularment coneguts al món del ML. Podriem diferir més o menys. Aquí us presento una llista:\n",
    "\n",
    "1. Logistic regression\n",
    "2. Decision trees\n",
    "3. Random forests\n",
    "4. Support vector machines (SVM)\n",
    "5. Artificial neural networks\n",
    "6. K-nearest neighbors (KNN)\n",
    "7. Naive Bayes\n",
    "8. Gradient boosting\n",
    "9. AdaBoost\n",
    "10. XGBoost\n",
    "\n",
    "Escolliré doncs tres dels més utilitzats: Logistic Regression, Random Forests i Support Vector Machines. Aquests, segons el que he investigats podrien tenir bona resposta per un dataset de classificació de vins com el que tenim."
   ]
  },
  {
   "cell_type": "markdown",
   "id": "58203509",
   "metadata": {},
   "source": [
    "### Instanciant el model"
   ]
  },
  {
   "cell_type": "markdown",
   "id": "370497b8",
   "metadata": {},
   "source": [
    "Logistic regression"
   ]
  },
  {
   "cell_type": "code",
   "execution_count": 21,
   "id": "59f3b046",
   "metadata": {},
   "outputs": [],
   "source": [
    "from sklearn.linear_model import LogisticRegression\n",
    "lr = LogisticRegression()"
   ]
  },
  {
   "cell_type": "markdown",
   "id": "60c469ef",
   "metadata": {},
   "source": [
    "Support Vector Machines (SVM)"
   ]
  },
  {
   "cell_type": "code",
   "execution_count": 22,
   "id": "be2080fc",
   "metadata": {},
   "outputs": [],
   "source": [
    "from sklearn.svm import SVC\n",
    "svc = SVC()"
   ]
  },
  {
   "cell_type": "markdown",
   "id": "516fcccd",
   "metadata": {},
   "source": [
    "Random Forest"
   ]
  },
  {
   "cell_type": "code",
   "execution_count": 23,
   "id": "cdf94ba9",
   "metadata": {},
   "outputs": [],
   "source": [
    "from sklearn.ensemble import RandomForestClassifier\n",
    "rf = RandomForestClassifier()"
   ]
  },
  {
   "cell_type": "markdown",
   "id": "b5b6efbe",
   "metadata": {},
   "source": [
    "### Ajustant el model"
   ]
  },
  {
   "cell_type": "code",
   "execution_count": 24,
   "id": "ee02dca1",
   "metadata": {},
   "outputs": [
    {
     "data": {
      "text/plain": [
       "RandomForestClassifier()"
      ]
     },
     "execution_count": 24,
     "metadata": {},
     "output_type": "execute_result"
    }
   ],
   "source": [
    "lr.fit(X_train, y_train)\n",
    "svc.fit(X_train, y_train)\n",
    "rf.fit(X_train, y_train)"
   ]
  },
  {
   "cell_type": "markdown",
   "id": "9dec014f",
   "metadata": {},
   "source": [
    "### Predint Resultats"
   ]
  },
  {
   "cell_type": "code",
   "execution_count": 25,
   "id": "d83166c8",
   "metadata": {},
   "outputs": [],
   "source": [
    "y_pred_lr = lr.predict(X_test)\n",
    "y_pred_svc = svc.predict(X_test)\n",
    "y_pred_rf = rf.predict(X_test)"
   ]
  },
  {
   "cell_type": "markdown",
   "id": "0012ded4",
   "metadata": {},
   "source": [
    "### Exercici 2\n",
    "\n",
    "Compara els models de classificació utilitzant la precisió (accuracy), una matriu de confusió i d’altres mètriques més avançades."
   ]
  },
  {
   "cell_type": "markdown",
   "id": "eb3d65eb",
   "metadata": {},
   "source": [
    "1. Aplicant **\"Accuracy\"** els nostres models"
   ]
  },
  {
   "cell_type": "code",
   "execution_count": 26,
   "id": "7a2a16b1",
   "metadata": {},
   "outputs": [
    {
     "data": {
      "text/html": [
       "<div>\n",
       "<style scoped>\n",
       "    .dataframe tbody tr th:only-of-type {\n",
       "        vertical-align: middle;\n",
       "    }\n",
       "\n",
       "    .dataframe tbody tr th {\n",
       "        vertical-align: top;\n",
       "    }\n",
       "\n",
       "    .dataframe thead th {\n",
       "        text-align: right;\n",
       "    }\n",
       "</style>\n",
       "<table border=\"1\" class=\"dataframe\">\n",
       "  <thead>\n",
       "    <tr style=\"text-align: right;\">\n",
       "      <th></th>\n",
       "      <th>Tipus Model</th>\n",
       "      <th>Accuracy</th>\n",
       "    </tr>\n",
       "  </thead>\n",
       "  <tbody>\n",
       "    <tr>\n",
       "      <th>0</th>\n",
       "      <td>Logistic Regression</td>\n",
       "      <td>0.944444</td>\n",
       "    </tr>\n",
       "    <tr>\n",
       "      <th>1</th>\n",
       "      <td>SVM</td>\n",
       "      <td>0.944444</td>\n",
       "    </tr>\n",
       "    <tr>\n",
       "      <th>2</th>\n",
       "      <td>Random Forest</td>\n",
       "      <td>0.972222</td>\n",
       "    </tr>\n",
       "  </tbody>\n",
       "</table>\n",
       "</div>"
      ],
      "text/plain": [
       "           Tipus Model  Accuracy\n",
       "0  Logistic Regression  0.944444\n",
       "1                  SVM  0.944444\n",
       "2        Random Forest  0.972222"
      ]
     },
     "execution_count": 26,
     "metadata": {},
     "output_type": "execute_result"
    }
   ],
   "source": [
    "from sklearn.metrics import accuracy_score\n",
    "\n",
    "ac_lr = accuracy_score(y_test, y_pred_lr)\n",
    "ac_svc = accuracy_score(y_test, y_pred_svc)\n",
    "ac_rf = accuracy_score(y_test, y_pred_rf)\n",
    "\n",
    "metrics = pd.DataFrame({'Tipus Model': ['Logistic Regression', 'SVM','Random Forest'],'Accuracy': [ac_lr, ac_svc, ac_rf]})\n",
    "metrics"
   ]
  },
  {
   "cell_type": "markdown",
   "id": "fdd205bf",
   "metadata": {},
   "source": [
    "Com primer anàlisi podem dir que els tres models estan classificant correctament una gran proporció de mostres en el conjunt de dades de prova. Tant així que per al model 'SVM' el 94% de les dades de prova han sigut classicades correctament.La Logistic Regression també aconsegueix un 94% d'efectivitat i el Random Forest un 97% sent el millor. Tots són percetatges molt alts i hem de tenir en compte més endavant la probabilitat de 'overfitting' o sobreajustament.\n",
    "\n",
    "Per poder tenir certesa de tenir models consistents hem d'aplicar altres mètriques per mesurar els seus errors i fer evaluacions creuades que ens aportin informació sobre un sobreajustament."
   ]
  },
  {
   "cell_type": "markdown",
   "id": "662316c6",
   "metadata": {},
   "source": [
    "2. Aplicant **\"La Matriu de confusió\"** els nostres models"
   ]
  },
  {
   "cell_type": "markdown",
   "id": "4900f9f7",
   "metadata": {},
   "source": [
    "Farem un plot comparatiu de les tres matrius de confusió per els nostres tres models de manera de poder veure fàcilment els encerts i desencerts."
   ]
  },
  {
   "cell_type": "code",
   "execution_count": 27,
   "id": "73993f8f",
   "metadata": {},
   "outputs": [
    {
     "data": {
      "image/png": "[encoded data removed]",
      "text/plain": [
       "<Figure size 1080x432 with 6 Axes>"
      ]
     },
     "metadata": {
      "needs_background": "light"
     },
     "output_type": "display_data"
    }
   ],
   "source": [
    "from sklearn.metrics import classification_report, confusion_matrix\n",
    "\n",
    "Classes = ['Class 1','Class 2','Class 3']\n",
    "\n",
    "plt.figure(figsize=(15,6))\n",
    "\n",
    "plt.subplot(1,3,1)\n",
    "a = pd.DataFrame(confusion_matrix(y_test, y_pred_lr), columns=Classes, index =Classes)\n",
    "i = sns.heatmap(a, annot=True, fmt='d',cmap=\"Blues\")\n",
    "i.set_title('Matriu Confusio Logistic Regression\\n', fontsize=15)\n",
    "i.set_ylabel('Classes Predites\\n',fontsize=15)\n",
    "\n",
    "plt.subplot(1,3,2)\n",
    "a = pd.DataFrame(confusion_matrix(y_test, y_pred_svc), columns=Classes, index =Classes)\n",
    "i = sns.heatmap(a, annot=True, fmt='d',cmap=\"Greens\")\n",
    "i.set_title('Matriu Confusió SVM Model\\n', fontsize=15)\n",
    "i.set_xlabel('\\nClasses Reals\\n',fontsize=15)\n",
    "\n",
    "plt.subplot(1,3,3)\n",
    "a = pd.DataFrame(confusion_matrix(y_test, y_pred_rf), columns=Classes, index =Classes)\n",
    "i = sns.heatmap(a, annot=True, fmt='d',cmap=\"Reds\")\n",
    "i.set_title('Matriu Confusió Random Forest Model\\n',fontsize=15)\n",
    "\n",
    "plt.show()\n"
   ]
  },
  {
   "cell_type": "markdown",
   "id": "4304f74a",
   "metadata": {},
   "source": [
    "La mètrica 'accuracy' ja ens parlava d'una molt bona resposta dels nostres models. Però, qué és el que realment ens aporten aquestes noves gráficas?\n",
    "\n",
    "1. Recordem que tenim 36 mostres que són les que estem fent servir en els nostres models. El 'accuracy' és una mesura que es calcula per el total de la mostra. Però, amb la matriu podem veure la seva distribució de encerts i desencerts. Si posem la mirada en el primer model (Logistic Regression), podem dir el següent:\n",
    "\n",
    "A. De les 14 mostres de la classe 1, el model ha predit correctament en el 100% de les mostres.\n",
    "\n",
    "B. De les 14 mostres de la classe 2, el model ha predit correctament en el 83,3% de les mostres.\n",
    "\n",
    "C. De les 8 mostres de la classe 3, el model ha predit correctament en el 100% de les mostres.\n",
    "    \n",
    "És a dir, que per una banda dependerà dels nostres objectius si ens serveix que les classes tinguin una disparitat en el percetatge d'encert i d'altre que hem de vigilar el balanceig de les mostres per classe. Això, perquè un model entrenat amb diferents quantitats de mostres (com és el nostre cas) podria tenir una millor resposta en aquells grups més robustos.\n",
    "    \n",
    "També es molt important dir que existeixen altres mètriques per poder tenir una evaluació més consistent. Si només ens quedem amb l'accuracy i la matriu de confusió podriem incórrer en biaixos sense voler o sense assabentar-nos."
   ]
  },
  {
   "cell_type": "markdown",
   "id": "b565ea43",
   "metadata": {},
   "source": [
    "3. Aplicant **F1** els nostres models."
   ]
  },
  {
   "cell_type": "code",
   "execution_count": 28,
   "id": "3a16c3fe",
   "metadata": {},
   "outputs": [],
   "source": [
    "from sklearn.metrics import f1_score\n",
    "\n",
    "f1_lr = f1_score(y_test, y_pred_lr, average='macro')\n",
    "f1_svc = f1_score(y_test, y_pred_svc, average='macro')\n",
    "f1_rf = f1_score(y_test, y_pred_rf, average='macro')"
   ]
  },
  {
   "cell_type": "code",
   "execution_count": 29,
   "id": "23f1a983",
   "metadata": {},
   "outputs": [
    {
     "data": {
      "text/html": [
       "<div>\n",
       "<style scoped>\n",
       "    .dataframe tbody tr th:only-of-type {\n",
       "        vertical-align: middle;\n",
       "    }\n",
       "\n",
       "    .dataframe tbody tr th {\n",
       "        vertical-align: top;\n",
       "    }\n",
       "\n",
       "    .dataframe thead th {\n",
       "        text-align: right;\n",
       "    }\n",
       "</style>\n",
       "<table border=\"1\" class=\"dataframe\">\n",
       "  <thead>\n",
       "    <tr style=\"text-align: right;\">\n",
       "      <th></th>\n",
       "      <th>Tipus Model</th>\n",
       "      <th>Accuracy</th>\n",
       "      <th>f1_macro</th>\n",
       "    </tr>\n",
       "  </thead>\n",
       "  <tbody>\n",
       "    <tr>\n",
       "      <th>0</th>\n",
       "      <td>Logistic Regression</td>\n",
       "      <td>0.944444</td>\n",
       "      <td>0.943257</td>\n",
       "    </tr>\n",
       "    <tr>\n",
       "      <th>1</th>\n",
       "      <td>SVM</td>\n",
       "      <td>0.944444</td>\n",
       "      <td>0.952381</td>\n",
       "    </tr>\n",
       "    <tr>\n",
       "      <th>2</th>\n",
       "      <td>Random Forest</td>\n",
       "      <td>0.972222</td>\n",
       "      <td>0.968046</td>\n",
       "    </tr>\n",
       "  </tbody>\n",
       "</table>\n",
       "</div>"
      ],
      "text/plain": [
       "           Tipus Model  Accuracy  f1_macro\n",
       "0  Logistic Regression  0.944444  0.943257\n",
       "1                  SVM  0.944444  0.952381\n",
       "2        Random Forest  0.972222  0.968046"
      ]
     },
     "execution_count": 29,
     "metadata": {},
     "output_type": "execute_result"
    }
   ],
   "source": [
    "metrics['f1_macro'] = [f1_lr, f1_svc, f1_rf]\n",
    "metrics"
   ]
  },
  {
   "cell_type": "markdown",
   "id": "dfd17675",
   "metadata": {},
   "source": [
    "El que estem fent amb el F1 es afegir un altre paràmetre (l'exhaustivitat) conjuntament amb la precisió. Quan les classes tenen un desequilibri en el nombre de mostres, aquesta mètrica es de especial utilitat.\n",
    "\n",
    "Com a resutats comparats entre 'Accuracy' i 'F1' veiem que el F1 té lleument menys valoració en la Regressió Logistica i un millor comportament en el Random Forest. Aixó en fa pensar que és una molt bona mesura per un dataset i una predicció del tipus que estem representant. El model SVM segons aquesta mètrica segueix tenint resultats perfectes.\n",
    "\n",
    "Hem de dir per descomptat, que tenim un dataset petit i desequilibrat en les seves classes. Això pot fer que el model no sigui del tot fiable. Fins ara podriem dir que no anem per mal camí."
   ]
  },
  {
   "cell_type": "markdown",
   "id": "65828327",
   "metadata": {},
   "source": [
    "### Exercici 3\n",
    "\n",
    "Entrena’ls usant els diferents paràmetres que admeten per tal de millorar-ne la predicció."
   ]
  },
  {
   "cell_type": "markdown",
   "id": "392cafd8",
   "metadata": {},
   "source": [
    "3.1 Buscant millors Hiperparameters model Regressió Logística"
   ]
  },
  {
   "cell_type": "code",
   "execution_count": 30,
   "id": "25ad669f",
   "metadata": {},
   "outputs": [
    {
     "data": {
      "text/plain": [
       "{'C': 1.0,\n",
       " 'class_weight': None,\n",
       " 'dual': False,\n",
       " 'fit_intercept': True,\n",
       " 'intercept_scaling': 1,\n",
       " 'l1_ratio': None,\n",
       " 'max_iter': 100,\n",
       " 'multi_class': 'auto',\n",
       " 'n_jobs': None,\n",
       " 'penalty': 'l2',\n",
       " 'random_state': None,\n",
       " 'solver': 'lbfgs',\n",
       " 'tol': 0.0001,\n",
       " 'verbose': 0,\n",
       " 'warm_start': False}"
      ]
     },
     "execution_count": 30,
     "metadata": {},
     "output_type": "execute_result"
    }
   ],
   "source": [
    "lr.get_params()"
   ]
  },
  {
   "cell_type": "code",
   "execution_count": 31,
   "id": "8656cedb",
   "metadata": {},
   "outputs": [
    {
     "name": "stdout",
     "output_type": "stream",
     "text": [
      "Best score F1 is  0.9944055944055943\n",
      "Best Hyper-parameters Logistic regression are : \n",
      " {'solver': 'liblinear', 'penalty': 'l1', 'C': 10}\n"
     ]
    }
   ],
   "source": [
    "from sklearn.model_selection import RandomizedSearchCV\n",
    "\n",
    "lr = LogisticRegression()\n",
    "\n",
    "# definim paràmetres relevants\n",
    "parm_grid = dict()\n",
    "parm_grid['C'] = [1, 5, 10]\n",
    "parm_grid['solver'] = ['newton-cg', 'lbfgs', 'liblinear', 'sag', 'saga']\n",
    "parm_grid['penalty'] = [\"l1\", \"l2\", \"elasticnet\"]\n",
    "\n",
    "#definim grid\n",
    "search_lr = RandomizedSearchCV(estimator=lr, param_distributions = parm_grid, n_iter=14, scoring = 'f1_macro', cv=10, random_state=42)\n",
    "\n",
    "#ajustem el model\n",
    "search_lr.fit(X, y)\n",
    "\n",
    "print(\"Best score F1 is \", search_lr.best_score_)\n",
    "print(\"Best Hyper-parameters Logistic regression are : \\n\", search_lr.best_params_)"
   ]
  },
  {
   "cell_type": "markdown",
   "id": "0ef12ffb",
   "metadata": {},
   "source": [
    "3.2 Buscant millors Hiperparameters model SVM"
   ]
  },
  {
   "cell_type": "code",
   "execution_count": 32,
   "id": "dd393327",
   "metadata": {},
   "outputs": [
    {
     "data": {
      "text/plain": [
       "{'C': 1.0,\n",
       " 'break_ties': False,\n",
       " 'cache_size': 200,\n",
       " 'class_weight': None,\n",
       " 'coef0': 0.0,\n",
       " 'decision_function_shape': 'ovr',\n",
       " 'degree': 3,\n",
       " 'gamma': 'scale',\n",
       " 'kernel': 'rbf',\n",
       " 'max_iter': -1,\n",
       " 'probability': False,\n",
       " 'random_state': None,\n",
       " 'shrinking': True,\n",
       " 'tol': 0.001,\n",
       " 'verbose': False}"
      ]
     },
     "execution_count": 32,
     "metadata": {},
     "output_type": "execute_result"
    }
   ],
   "source": [
    "svc.get_params()"
   ]
  },
  {
   "cell_type": "code",
   "execution_count": 33,
   "id": "2aff3e1a",
   "metadata": {},
   "outputs": [
    {
     "name": "stdout",
     "output_type": "stream",
     "text": [
      "Best score SVM is  0.9543058793058792\n",
      "Best Hyper-parameters SVM are : \n",
      " {'kernel': 'rbf', 'gamma': 'scale', 'C': 10}\n"
     ]
    }
   ],
   "source": [
    "from sklearn.model_selection import RandomizedSearchCV\n",
    "\n",
    "svc = SVC()\n",
    "\n",
    "# definim paràmetres relevants\n",
    "parm_grid2 = dict()\n",
    "parm_grid2['C'] = [0.1, 1, 5, 10]\n",
    "parm_grid2['kernel'] = [\"linear\", \"poly\", \"rbf\"]\n",
    "parm_grid2['gamma'] = [\"auto\", \"scale\", 0.01, 0.1, 2]\n",
    "\n",
    "#definim grid\n",
    "search_svc = RandomizedSearchCV(estimator=svc, param_distributions = parm_grid2, n_iter=14, scoring = 'f1_macro', cv=10, random_state=42)\n",
    "\n",
    "#ajustem el model\n",
    "search_svc.fit(X, y)\n",
    "\n",
    "print(\"Best score SVM is \", search_svc.best_score_)\n",
    "print(\"Best Hyper-parameters SVM are : \\n\", search_svc.best_params_)"
   ]
  },
  {
   "cell_type": "markdown",
   "id": "17ae41f6",
   "metadata": {},
   "source": [
    "3.3 Buscant millors Hiperparameters model Random Forest"
   ]
  },
  {
   "cell_type": "code",
   "execution_count": 34,
   "id": "402ff9ff",
   "metadata": {},
   "outputs": [
    {
     "data": {
      "text/plain": [
       "{'bootstrap': True,\n",
       " 'ccp_alpha': 0.0,\n",
       " 'class_weight': None,\n",
       " 'criterion': 'gini',\n",
       " 'max_depth': None,\n",
       " 'max_features': 'auto',\n",
       " 'max_leaf_nodes': None,\n",
       " 'max_samples': None,\n",
       " 'min_impurity_decrease': 0.0,\n",
       " 'min_samples_leaf': 1,\n",
       " 'min_samples_split': 2,\n",
       " 'min_weight_fraction_leaf': 0.0,\n",
       " 'n_estimators': 100,\n",
       " 'n_jobs': None,\n",
       " 'oob_score': False,\n",
       " 'random_state': None,\n",
       " 'verbose': 0,\n",
       " 'warm_start': False}"
      ]
     },
     "execution_count": 34,
     "metadata": {},
     "output_type": "execute_result"
    }
   ],
   "source": [
    "rf.get_params()"
   ]
  },
  {
   "cell_type": "code",
   "execution_count": 35,
   "id": "e1f17bdb",
   "metadata": {},
   "outputs": [
    {
     "name": "stdout",
     "output_type": "stream",
     "text": [
      "Best score RF is  0.9892773892773892\n",
      "Best Hyper-parameters RF are : \n",
      " {'oob_score': False, 'n_estimators': 100, 'max_depth': None}\n"
     ]
    }
   ],
   "source": [
    "from sklearn.model_selection import RandomizedSearchCV\n",
    "\n",
    "rf = RandomForestClassifier()\n",
    "\n",
    "# definim paràmetres relevants\n",
    "parm_grid3 = dict()\n",
    "parm_grid3['max_depth'] = [None, 2, 3, 5]\n",
    "parm_grid3['n_estimators'] = [50, 75, 100, 125, 150, 175, 200]\n",
    "parm_grid3['oob_score'] = [True, False]\n",
    "\n",
    "#definim grid\n",
    "search_rf = RandomizedSearchCV(estimator=rf, param_distributions = parm_grid3, n_iter=14, scoring = 'f1_macro', cv=10, random_state=42)\n",
    "\n",
    "#ajustem el model\n",
    "search_rf.fit(X, y)\n",
    "\n",
    "print(\"Best score RF is \", search_rf.best_score_)\n",
    "print(\"Best Hyper-parameters RF are : \\n\", search_rf.best_params_)"
   ]
  },
  {
   "cell_type": "markdown",
   "id": "0c80aea6",
   "metadata": {},
   "source": [
    "3.4 Millorant els models amb els hiperparàmetres trobats"
   ]
  },
  {
   "cell_type": "markdown",
   "id": "05fc0b2e",
   "metadata": {},
   "source": [
    "3.4.1 Tornem a fer les prediccions dels models amb els nous hiperparàmetres i calcular els seus errors"
   ]
  },
  {
   "cell_type": "markdown",
   "id": "20afe533",
   "metadata": {},
   "source": [
    "3.4.1.1 Posem els nous millors paràmetres per a cada model"
   ]
  },
  {
   "cell_type": "code",
   "execution_count": 36,
   "id": "df023267",
   "metadata": {},
   "outputs": [],
   "source": [
    "lr_hp = LogisticRegression(solver = 'liblinear', penalty = 'l2', C= 10, random_state=42)\n",
    "svc_hp = SVC(kernel= 'linear', gamma = 'auto', C= 10)\n",
    "rf_hp = RandomForestClassifier(random_state=42, oob_score=True, n_estimators= 50, max_depth= None)"
   ]
  },
  {
   "cell_type": "markdown",
   "id": "46c5291c",
   "metadata": {},
   "source": [
    "3.4.1.2 Ajustem i predim els models"
   ]
  },
  {
   "cell_type": "code",
   "execution_count": 37,
   "id": "fe428c12",
   "metadata": {},
   "outputs": [],
   "source": [
    "lr_hp.fit(X_train, y_train)\n",
    "y_pred_lr_hp = lr_hp.predict(X_test)\n",
    "\n",
    "svc_hp.fit(X_train, y_train)\n",
    "y_pred_svc_hp = svc_hp.predict(X_test)\n",
    "\n",
    "rf_hp.fit(X_train, y_train)\n",
    "y_pred_rf_hp = rf_hp.predict(X_test)"
   ]
  },
  {
   "cell_type": "markdown",
   "id": "d9ddbb68",
   "metadata": {},
   "source": [
    "3.4.1.3 Calculem Accuracy i F1 amb els nous paràmetres"
   ]
  },
  {
   "cell_type": "code",
   "execution_count": 38,
   "id": "9508314b",
   "metadata": {},
   "outputs": [],
   "source": [
    "#accuracy\n",
    "ac_lr_hp = accuracy_score(y_test, y_pred_lr_hp) \n",
    "ac_svc_hp = accuracy_score(y_test, y_pred_svc_hp) \n",
    "ac_rf_hp = accuracy_score(y_test, y_pred_rf_hp) \n",
    "\n",
    "#f1_macro\n",
    "f1_lr_hp = f1_score(y_test, y_pred_lr_hp, average='macro') \n",
    "f1_svc_hp = f1_score(y_test, y_pred_svc_hp, average='macro') \n",
    "f1_rf_hp = f1_score(y_test, y_pred_rf_hp, average='macro')"
   ]
  },
  {
   "cell_type": "markdown",
   "id": "1ee3ecdb",
   "metadata": {},
   "source": [
    "3.4.1.4 Afegim els nous resultats el dataframe resumen"
   ]
  },
  {
   "cell_type": "code",
   "execution_count": 39,
   "id": "d6775613",
   "metadata": {},
   "outputs": [
    {
     "data": {
      "text/html": [
       "<div>\n",
       "<style scoped>\n",
       "    .dataframe tbody tr th:only-of-type {\n",
       "        vertical-align: middle;\n",
       "    }\n",
       "\n",
       "    .dataframe tbody tr th {\n",
       "        vertical-align: top;\n",
       "    }\n",
       "\n",
       "    .dataframe thead th {\n",
       "        text-align: right;\n",
       "    }\n",
       "</style>\n",
       "<table border=\"1\" class=\"dataframe\">\n",
       "  <thead>\n",
       "    <tr style=\"text-align: right;\">\n",
       "      <th></th>\n",
       "      <th>Tipus Model</th>\n",
       "      <th>Accuracy</th>\n",
       "      <th>f1_macro</th>\n",
       "      <th>Accuracy_hp</th>\n",
       "      <th>F1_macro_hp</th>\n",
       "    </tr>\n",
       "  </thead>\n",
       "  <tbody>\n",
       "    <tr>\n",
       "      <th>0</th>\n",
       "      <td>Logistic Regression</td>\n",
       "      <td>0.9444</td>\n",
       "      <td>0.9433</td>\n",
       "      <td>0.9722</td>\n",
       "      <td>0.9762</td>\n",
       "    </tr>\n",
       "    <tr>\n",
       "      <th>1</th>\n",
       "      <td>SVM</td>\n",
       "      <td>0.9444</td>\n",
       "      <td>0.9524</td>\n",
       "      <td>0.9722</td>\n",
       "      <td>0.9680</td>\n",
       "    </tr>\n",
       "    <tr>\n",
       "      <th>2</th>\n",
       "      <td>Random Forest</td>\n",
       "      <td>0.9722</td>\n",
       "      <td>0.9680</td>\n",
       "      <td>1.0000</td>\n",
       "      <td>1.0000</td>\n",
       "    </tr>\n",
       "  </tbody>\n",
       "</table>\n",
       "</div>"
      ],
      "text/plain": [
       "           Tipus Model  Accuracy  f1_macro  Accuracy_hp  F1_macro_hp\n",
       "0  Logistic Regression    0.9444    0.9433       0.9722       0.9762\n",
       "1                  SVM    0.9444    0.9524       0.9722       0.9680\n",
       "2        Random Forest    0.9722    0.9680       1.0000       1.0000"
      ]
     },
     "execution_count": 39,
     "metadata": {},
     "output_type": "execute_result"
    }
   ],
   "source": [
    "metrics['Accuracy_hp'] = [ac_lr_hp, ac_svc_hp, ac_rf_hp]\n",
    "metrics['F1_macro_hp'] = [f1_lr_hp, f1_svc_hp, f1_rf_hp]\n",
    "metrics.round(4)"
   ]
  },
  {
   "cell_type": "markdown",
   "id": "30c652d5",
   "metadata": {},
   "source": [
    "### Comentaris"
   ]
  },
  {
   "cell_type": "markdown",
   "id": "dc9ee10d",
   "metadata": {},
   "source": [
    "Veiem com aplicant hiperparàmetres a través de RandomizedSearch hem pujat totes les mètriques dels models. L'accuracy ha pujat a un 97,2% a la Logistic Regression i al SVM. Mentre que el Random Forest ens dona 100% tant en l'accuracy com el F1. hem anat vigilant de no incórrer en \"overffiting\" declarant els models previament. Si mirem un percentatge de 100% d'accuracy potser podriem estar fent-lo. Per això més endavant farem la \"cross validation\" i analitzarem si ens dona resultats consistents. Potser hem aconseguit un model fantàstic pel nostre dataset."
   ]
  },
  {
   "cell_type": "markdown",
   "id": "4602d3c5",
   "metadata": {},
   "source": [
    "### Exercici 4\n",
    "\n",
    "Compara el seu rendiment fent servir l’aproximació traint/test o cross-validation."
   ]
  },
  {
   "cell_type": "code",
   "execution_count": 40,
   "id": "e4a2a341",
   "metadata": {},
   "outputs": [],
   "source": [
    "from sklearn.model_selection import cross_val_score\n",
    "\n",
    "lr = LogisticRegression()\n",
    "lr_hp = LogisticRegression(solver = 'liblinear', penalty = 'l2', C= 10, random_state=42)\n",
    "svc = SVC()\n",
    "svc_hp = SVC(kernel= 'linear', gamma = 'auto', C= 10)\n",
    "rf = RandomForestClassifier()\n",
    "rf_hp = RandomForestClassifier(random_state=42, oob_score=True, n_estimators= 50, max_depth= None)"
   ]
  },
  {
   "cell_type": "markdown",
   "id": "aa63fa5d",
   "metadata": {},
   "source": [
    "Calculem Cross Validation"
   ]
  },
  {
   "cell_type": "code",
   "execution_count": 41,
   "id": "5cdf6a78",
   "metadata": {},
   "outputs": [
    {
     "data": {
      "text/html": [
       "<div>\n",
       "<style scoped>\n",
       "    .dataframe tbody tr th:only-of-type {\n",
       "        vertical-align: middle;\n",
       "    }\n",
       "\n",
       "    .dataframe tbody tr th {\n",
       "        vertical-align: top;\n",
       "    }\n",
       "\n",
       "    .dataframe thead th {\n",
       "        text-align: right;\n",
       "    }\n",
       "</style>\n",
       "<table border=\"1\" class=\"dataframe\">\n",
       "  <thead>\n",
       "    <tr style=\"text-align: right;\">\n",
       "      <th></th>\n",
       "      <th>Tipus Model</th>\n",
       "      <th>Accuracy</th>\n",
       "      <th>f1_macro</th>\n",
       "      <th>Accuracy_hp</th>\n",
       "      <th>F1_macro_hp</th>\n",
       "      <th>CV_F1_Macro</th>\n",
       "      <th>CV_F1_Macro_hp</th>\n",
       "    </tr>\n",
       "  </thead>\n",
       "  <tbody>\n",
       "    <tr>\n",
       "      <th>0</th>\n",
       "      <td>Logistic Regression</td>\n",
       "      <td>0.9444</td>\n",
       "      <td>0.9433</td>\n",
       "      <td>0.9722</td>\n",
       "      <td>0.9762</td>\n",
       "      <td>0.9605</td>\n",
       "      <td>0.9837</td>\n",
       "    </tr>\n",
       "    <tr>\n",
       "      <th>1</th>\n",
       "      <td>SVM</td>\n",
       "      <td>0.9444</td>\n",
       "      <td>0.9524</td>\n",
       "      <td>0.9722</td>\n",
       "      <td>0.9680</td>\n",
       "      <td>0.9604</td>\n",
       "      <td>0.9485</td>\n",
       "    </tr>\n",
       "    <tr>\n",
       "      <th>2</th>\n",
       "      <td>Random Forest</td>\n",
       "      <td>0.9722</td>\n",
       "      <td>0.9680</td>\n",
       "      <td>1.0000</td>\n",
       "      <td>1.0000</td>\n",
       "      <td>0.9840</td>\n",
       "      <td>0.9784</td>\n",
       "    </tr>\n",
       "  </tbody>\n",
       "</table>\n",
       "</div>"
      ],
      "text/plain": [
       "           Tipus Model  Accuracy  f1_macro  Accuracy_hp  F1_macro_hp  \\\n",
       "0  Logistic Regression    0.9444    0.9433       0.9722       0.9762   \n",
       "1                  SVM    0.9444    0.9524       0.9722       0.9680   \n",
       "2        Random Forest    0.9722    0.9680       1.0000       1.0000   \n",
       "\n",
       "   CV_F1_Macro  CV_F1_Macro_hp  \n",
       "0       0.9605          0.9837  \n",
       "1       0.9604          0.9485  \n",
       "2       0.9840          0.9784  "
      ]
     },
     "execution_count": 41,
     "metadata": {},
     "output_type": "execute_result"
    }
   ],
   "source": [
    "lr_cv = cross_val_score(lr, X, y, cv=10, scoring='f1_macro').mean()\n",
    "lr_hp_cv = cross_val_score(lr_hp, X, y, cv=10, scoring='f1_macro').mean()\n",
    "svc_cv = cross_val_score(svc, X, y, cv=10, scoring='f1_macro').mean()\n",
    "svc_hp_cv = cross_val_score(svc_hp, X, y, cv=10, scoring='f1_macro').mean()\n",
    "rf_cv = cross_val_score(rf, X, y, cv=10, scoring='f1_macro').mean()\n",
    "rf_hp_cv = cross_val_score(rf_hp, X, y, cv=10, scoring='f1_macro').mean()\n",
    "\n",
    "metrics['CV_F1_Macro'] = [lr_cv, svc_cv, rf_cv]\n",
    "metrics['CV_F1_Macro_hp'] = [lr_hp_cv, svc_hp_cv, rf_hp_cv]\n",
    "\n",
    "metrics.round(4)"
   ]
  },
  {
   "cell_type": "markdown",
   "id": "58798af3",
   "metadata": {},
   "source": [
    "Calculem Cross Validation Std"
   ]
  },
  {
   "cell_type": "code",
   "execution_count": 42,
   "id": "366fcef2",
   "metadata": {
    "scrolled": true
   },
   "outputs": [
    {
     "data": {
      "text/html": [
       "<div>\n",
       "<style scoped>\n",
       "    .dataframe tbody tr th:only-of-type {\n",
       "        vertical-align: middle;\n",
       "    }\n",
       "\n",
       "    .dataframe tbody tr th {\n",
       "        vertical-align: top;\n",
       "    }\n",
       "\n",
       "    .dataframe thead th {\n",
       "        text-align: right;\n",
       "    }\n",
       "</style>\n",
       "<table border=\"1\" class=\"dataframe\">\n",
       "  <thead>\n",
       "    <tr style=\"text-align: right;\">\n",
       "      <th></th>\n",
       "      <th>Tipus Model</th>\n",
       "      <th>Accuracy</th>\n",
       "      <th>f1_macro</th>\n",
       "      <th>Accuracy_hp</th>\n",
       "      <th>F1_macro_hp</th>\n",
       "      <th>CV_F1_Macro</th>\n",
       "      <th>CV_F1_Macro_hp</th>\n",
       "      <th>CV_F1_Macro_std</th>\n",
       "      <th>CV_F1_Macro_hp_std</th>\n",
       "    </tr>\n",
       "  </thead>\n",
       "  <tbody>\n",
       "    <tr>\n",
       "      <th>0</th>\n",
       "      <td>Logistic Regression</td>\n",
       "      <td>0.9444</td>\n",
       "      <td>0.9433</td>\n",
       "      <td>0.9722</td>\n",
       "      <td>0.9762</td>\n",
       "      <td>0.9605</td>\n",
       "      <td>0.9837</td>\n",
       "      <td>0.0523</td>\n",
       "      <td>0.0250</td>\n",
       "    </tr>\n",
       "    <tr>\n",
       "      <th>1</th>\n",
       "      <td>SVM</td>\n",
       "      <td>0.9444</td>\n",
       "      <td>0.9524</td>\n",
       "      <td>0.9722</td>\n",
       "      <td>0.9680</td>\n",
       "      <td>0.9604</td>\n",
       "      <td>0.9485</td>\n",
       "      <td>0.0523</td>\n",
       "      <td>0.0344</td>\n",
       "    </tr>\n",
       "    <tr>\n",
       "      <th>2</th>\n",
       "      <td>Random Forest</td>\n",
       "      <td>0.9722</td>\n",
       "      <td>0.9680</td>\n",
       "      <td>1.0000</td>\n",
       "      <td>1.0000</td>\n",
       "      <td>0.9840</td>\n",
       "      <td>0.9784</td>\n",
       "      <td>0.0250</td>\n",
       "      <td>0.0264</td>\n",
       "    </tr>\n",
       "  </tbody>\n",
       "</table>\n",
       "</div>"
      ],
      "text/plain": [
       "           Tipus Model  Accuracy  f1_macro  Accuracy_hp  F1_macro_hp  \\\n",
       "0  Logistic Regression    0.9444    0.9433       0.9722       0.9762   \n",
       "1                  SVM    0.9444    0.9524       0.9722       0.9680   \n",
       "2        Random Forest    0.9722    0.9680       1.0000       1.0000   \n",
       "\n",
       "   CV_F1_Macro  CV_F1_Macro_hp  CV_F1_Macro_std  CV_F1_Macro_hp_std  \n",
       "0       0.9605          0.9837           0.0523              0.0250  \n",
       "1       0.9604          0.9485           0.0523              0.0344  \n",
       "2       0.9840          0.9784           0.0250              0.0264  "
      ]
     },
     "execution_count": 42,
     "metadata": {},
     "output_type": "execute_result"
    }
   ],
   "source": [
    "lr_cv_std = cross_val_score(lr, X, y, cv=10, scoring='f1_macro').std()\n",
    "lr_hp_cv_std = cross_val_score(lr_hp, X, y, cv=10, scoring='f1_macro').std()\n",
    "svc_cv_std = cross_val_score(svc, X, y, cv=10, scoring='f1_macro').std()\n",
    "svc_hp_cv_std = cross_val_score(svc_hp, X, y, cv=10, scoring='f1_macro').std()\n",
    "rf_cv_std = cross_val_score(rf, X, y, cv=10, scoring='f1_macro').std()\n",
    "rf_hp_cv_std = cross_val_score(rf_hp, X, y, cv=10, scoring='f1_macro').std()\n",
    "\n",
    "metrics['CV_F1_Macro_std'] = [lr_cv_std, svc_cv_std, rf_cv_std]\n",
    "metrics['CV_F1_Macro_hp_std'] = [lr_hp_cv_std, svc_hp_cv_std, rf_hp_cv_std]\n",
    "\n",
    "metrics.round(4)"
   ]
  },
  {
   "cell_type": "markdown",
   "id": "665c3695",
   "metadata": {},
   "source": [
    "### Comentaris"
   ]
  },
  {
   "cell_type": "markdown",
   "id": "f2032ccd",
   "metadata": {},
   "source": [
    "Si mirem totes les mètriques disposades al llarg del dataframe \"metrics\", no hi ha cap dubte que hem fet servir tres models que s'ajusten molt bé el dataset en qüestió. Hem anat vigilant tots els passos i hem anat aplicant conscientment les mètriques i hiperparàmetres que la literatura ens suggereix.\n",
    "Sabem que mentre més alta la precissió i més baixa sigui la desviació standard, el model tindrà major consistència i fiabilitat. Aquest és el nostre cas, perquè gràcies a la validació creuada hem vist que l'accuracy és consistent a totes les mètriques. Per un altre banda, el càlcul de la desvació standard reafirma la fiabilitat dels models amb i sense canvi d'hiperparàmetres."
   ]
  },
  {
   "cell_type": "code",
   "execution_count": null,
   "id": "d1108b89",
   "metadata": {},
   "outputs": [],
   "source": []
  }
 ],
 "metadata": {
  "kernelspec": {
   "display_name": "Python 3 (ipykernel)",
   "language": "python",
   "name": "python3"
  },
  "language_info": {
   "codemirror_mode": {
    "name": "ipython",
    "version": 3
   },
   "file_extension": ".py",
   "mimetype": "text/x-python",
   "name": "python",
   "nbconvert_exporter": "python",
   "pygments_lexer": "ipython3",
   "version": "3.9.12"
  },
  "latex_envs": {
   "LaTeX_envs_menu_present": true,
   "autoclose": false,
   "autocomplete": true,
   "bibliofile": "biblio.bib",
   "cite_by": "apalike",
   "current_citInitial": 1,
   "eqLabelWithNumbers": true,
   "eqNumInitial": 1,
   "hotkeys": {
    "equation": "Ctrl-E",
    "itemize": "Ctrl-I"
   },
   "labels_anchors": false,
   "latex_user_defs": false,
   "report_style_numbering": false,
   "user_envs_cfg": false
  }
 },
 "nbformat": 4,
 "nbformat_minor": 5
}
